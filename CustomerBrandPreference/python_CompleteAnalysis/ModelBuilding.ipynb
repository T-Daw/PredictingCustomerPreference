{
 "cells": [
  {
   "cell_type": "markdown",
   "metadata": {},
   "source": [
    "# Imports"
   ]
  },
  {
   "cell_type": "code",
   "execution_count": 1,
   "metadata": {},
   "outputs": [],
   "source": [
    "#imports\n",
    "#numpy,pandas,scipy, math, matplotlib\n",
    "import numpy as np\n",
    "import pandas as pd\n",
    "import scipy\n",
    "from math import sqrt\n",
    "import matplotlib.pyplot as plt\n",
    "import seaborn as sns \n",
    "from sklearn.model_selection import train_test_split # for train test split"
   ]
  },
  {
   "cell_type": "code",
   "execution_count": 2,
   "metadata": {},
   "outputs": [],
   "source": [
    "#estimators\n",
    "from sklearn.ensemble import RandomForestClassifier # for random forest model\n",
    "from sklearn import tree"
   ]
  },
  {
   "cell_type": "code",
   "execution_count": 3,
   "metadata": {},
   "outputs": [],
   "source": [
    "#model metrics\n",
    "from sklearn.model_selection import cross_val_score\n",
    "from sklearn.metrics import recall_score\n",
    "from sklearn.metrics import f1_score\n",
    "from sklearn.metrics import precision_score\n",
    "from sklearn.metrics import accuracy_score \n",
    "from sklearn.metrics import plot_confusion_matrix\n",
    "from sklearn.metrics import cohen_kappa_score"
   ]
  },
  {
   "cell_type": "code",
   "execution_count": 97,
   "metadata": {},
   "outputs": [],
   "source": [
    "from imblearn.over_sampling import RandomOverSampler\n",
    "from imblearn.under_sampling import RandomUnderSampler\n",
    "from sklearn.model_selection import KFold \n",
    "from sklearn.model_selection import StratifiedKFold\n",
    "from sklearn.model_selection import RandomizedSearchCV\n"
   ]
  },
  {
   "cell_type": "markdown",
   "metadata": {},
   "source": [
    "# Prepare Data"
   ]
  },
  {
   "cell_type": "code",
   "execution_count": 5,
   "metadata": {},
   "outputs": [],
   "source": [
    "# Load Data\n",
    "survey = pd.read_csv('CompleteResponses.csv', header =0)"
   ]
  },
  {
   "cell_type": "code",
   "execution_count": 6,
   "metadata": {},
   "outputs": [
    {
     "data": {
      "text/html": [
       "<div>\n",
       "<style scoped>\n",
       "    .dataframe tbody tr th:only-of-type {\n",
       "        vertical-align: middle;\n",
       "    }\n",
       "\n",
       "    .dataframe tbody tr th {\n",
       "        vertical-align: top;\n",
       "    }\n",
       "\n",
       "    .dataframe thead th {\n",
       "        text-align: right;\n",
       "    }\n",
       "</style>\n",
       "<table border=\"1\" class=\"dataframe\">\n",
       "  <thead>\n",
       "    <tr style=\"text-align: right;\">\n",
       "      <th></th>\n",
       "      <th>salary</th>\n",
       "      <th>age</th>\n",
       "      <th>elevel</th>\n",
       "      <th>car</th>\n",
       "      <th>zipcode</th>\n",
       "      <th>credit</th>\n",
       "      <th>brand</th>\n",
       "    </tr>\n",
       "  </thead>\n",
       "  <tbody>\n",
       "    <tr>\n",
       "      <td>count</td>\n",
       "      <td>9898.000000</td>\n",
       "      <td>9898.000000</td>\n",
       "      <td>9898.000000</td>\n",
       "      <td>9898.000000</td>\n",
       "      <td>9898.000000</td>\n",
       "      <td>9898.000000</td>\n",
       "      <td>9898.000000</td>\n",
       "    </tr>\n",
       "    <tr>\n",
       "      <td>mean</td>\n",
       "      <td>84870.862257</td>\n",
       "      <td>49.778642</td>\n",
       "      <td>1.982926</td>\n",
       "      <td>10.521924</td>\n",
       "      <td>4.040816</td>\n",
       "      <td>249175.966620</td>\n",
       "      <td>0.621742</td>\n",
       "    </tr>\n",
       "    <tr>\n",
       "      <td>std</td>\n",
       "      <td>37712.340836</td>\n",
       "      <td>17.596685</td>\n",
       "      <td>1.420562</td>\n",
       "      <td>5.771435</td>\n",
       "      <td>2.582058</td>\n",
       "      <td>145211.572531</td>\n",
       "      <td>0.484977</td>\n",
       "    </tr>\n",
       "    <tr>\n",
       "      <td>min</td>\n",
       "      <td>20000.000000</td>\n",
       "      <td>20.000000</td>\n",
       "      <td>0.000000</td>\n",
       "      <td>1.000000</td>\n",
       "      <td>0.000000</td>\n",
       "      <td>0.000000</td>\n",
       "      <td>0.000000</td>\n",
       "    </tr>\n",
       "    <tr>\n",
       "      <td>25%</td>\n",
       "      <td>52082.106040</td>\n",
       "      <td>35.000000</td>\n",
       "      <td>1.000000</td>\n",
       "      <td>6.000000</td>\n",
       "      <td>2.000000</td>\n",
       "      <td>120806.813900</td>\n",
       "      <td>0.000000</td>\n",
       "    </tr>\n",
       "    <tr>\n",
       "      <td>50%</td>\n",
       "      <td>84949.735155</td>\n",
       "      <td>50.000000</td>\n",
       "      <td>2.000000</td>\n",
       "      <td>11.000000</td>\n",
       "      <td>4.000000</td>\n",
       "      <td>250607.146100</td>\n",
       "      <td>1.000000</td>\n",
       "    </tr>\n",
       "    <tr>\n",
       "      <td>75%</td>\n",
       "      <td>117162.043375</td>\n",
       "      <td>65.000000</td>\n",
       "      <td>3.000000</td>\n",
       "      <td>15.750000</td>\n",
       "      <td>6.000000</td>\n",
       "      <td>374639.701800</td>\n",
       "      <td>1.000000</td>\n",
       "    </tr>\n",
       "    <tr>\n",
       "      <td>max</td>\n",
       "      <td>150000.000000</td>\n",
       "      <td>80.000000</td>\n",
       "      <td>4.000000</td>\n",
       "      <td>20.000000</td>\n",
       "      <td>8.000000</td>\n",
       "      <td>500000.000000</td>\n",
       "      <td>1.000000</td>\n",
       "    </tr>\n",
       "  </tbody>\n",
       "</table>\n",
       "</div>"
      ],
      "text/plain": [
       "              salary          age       elevel          car      zipcode  \\\n",
       "count    9898.000000  9898.000000  9898.000000  9898.000000  9898.000000   \n",
       "mean    84870.862257    49.778642     1.982926    10.521924     4.040816   \n",
       "std     37712.340836    17.596685     1.420562     5.771435     2.582058   \n",
       "min     20000.000000    20.000000     0.000000     1.000000     0.000000   \n",
       "25%     52082.106040    35.000000     1.000000     6.000000     2.000000   \n",
       "50%     84949.735155    50.000000     2.000000    11.000000     4.000000   \n",
       "75%    117162.043375    65.000000     3.000000    15.750000     6.000000   \n",
       "max    150000.000000    80.000000     4.000000    20.000000     8.000000   \n",
       "\n",
       "              credit        brand  \n",
       "count    9898.000000  9898.000000  \n",
       "mean   249175.966620     0.621742  \n",
       "std    145211.572531     0.484977  \n",
       "min         0.000000     0.000000  \n",
       "25%    120806.813900     0.000000  \n",
       "50%    250607.146100     1.000000  \n",
       "75%    374639.701800     1.000000  \n",
       "max    500000.000000     1.000000  "
      ]
     },
     "execution_count": 6,
     "metadata": {},
     "output_type": "execute_result"
    }
   ],
   "source": [
    "survey.describe(include ='all')"
   ]
  },
  {
   "cell_type": "code",
   "execution_count": 7,
   "metadata": {},
   "outputs": [],
   "source": [
    "cols_allX = ['salary','age','elevel','car','zipcode','credit']"
   ]
  },
  {
   "cell_type": "markdown",
   "metadata": {},
   "source": [
    "# Functions"
   ]
  },
  {
   "cell_type": "code",
   "execution_count": 86,
   "metadata": {},
   "outputs": [],
   "source": [
    "# purpose: prevent assignment mistakes\n",
    "\n",
    "def loadData() :\n",
    "    \n",
    "# make elevel ordinal\n",
    "    cat_dtype = pd.api.types.CategoricalDtype(\n",
    "        categories=[0,1,2,3,4], ordered=True)\n",
    "\n",
    "    survey['elevel'] = survey.elevel.astype(cat_dtype)\n",
    "    survey['car'] = survey.car.astype('category')\n",
    "    survey['zipcode'] = survey.zipcode.astype('category')\n",
    "    survey['brand'] = survey.brand.astype('category')\n",
    "    \n",
    "    print(survey.describe(include='all'))\n",
    "    \n",
    "    return survey"
   ]
  },
  {
   "cell_type": "code",
   "execution_count": 9,
   "metadata": {},
   "outputs": [],
   "source": [
    "# train, test split function\n",
    "## cols = feature columns, list of column names\n",
    "def sD(cols) :\n",
    "\n",
    "    X = survey[cols]\n",
    "    y = survey['brand']\n",
    "\n",
    "    print(X.columns)\n",
    "\n",
    "    print(y.head())\n",
    "\n",
    "    sD.X_train, sD.X_test, sD.y_train, sD.y_test = train_test_split(X, y, test_size=0.25, random_state=42)\n",
    "\n",
    "    print('The number of observations in the Y training set are:',str(len(sD.y_train.index)))\n",
    "    print('The number of observations in the X training set are:',str(len(sD.X_train.index)))\n",
    "    print('The number of observations in the X testing set are:',str(len(sD.X_test.index)))\n",
    "    print('The number of observations in the y testing set are:',str(len(sD.y_test.index)))\n",
    "    print(len(sD.X_test)/(len(sD.X_test)+len(sD.X_train)))\n",
    "    print(len(sD.y_test)/(len(sD.y_test)+len(sD.y_train)))\n",
    "    \n",
    "    #return sD.X_train, sD.X_test, sD.y_train, sD.y_test"
   ]
  },
  {
   "cell_type": "code",
   "execution_count": 10,
   "metadata": {},
   "outputs": [],
   "source": [
    "# function to create a pandas dataframe, with prediction results and actual results\n",
    "\n",
    "# modelInitial_string is the initial of the model. Ex: 'rf' is for random forest\n",
    "# predictions is the predictions object from the model. Ex: predictions_rf is created when we run the .predict() on the random forest model\n",
    "# y_test is the default rows (test data), created during train test split step\n",
    "\n",
    "def predDF(modelInitial_string, predictions, y_test ) :\n",
    "    predColumnName = 'predictions_' + modelInitial_string\n",
    "    redColNam = 'results_' + modelInitial_string\n",
    "    predictions_df = pd.DataFrame(predictions)\n",
    "    predictions_df.columns = [predColumnName]\n",
    "    predictions_df.reset_index(drop=True, inplace=True)\n",
    "    ytest_df = pd.DataFrame(y_test)\n",
    "    ytest_df.columns = ['actualResults']\n",
    "    ytest_df.reset_index(drop=True, inplace=True)\n",
    "    res = [ytest_df,predictions_df]\n",
    "    redColNam = pd.concat(res,sort=False, axis = 1)\n",
    "    print (redColNam.columns)\n",
    "    return redColNam"
   ]
  },
  {
   "cell_type": "code",
   "execution_count": 11,
   "metadata": {},
   "outputs": [],
   "source": [
    "# function for my metrics\n",
    "\n",
    "#modelName : name of algorithm as a string, can be initial or full name\n",
    "#y_test : test set of target variable\n",
    "# modelPredictions : model predictions, output of .predict()\n",
    "\n",
    "def myMetrics(modelName_str, y_test, modelPredictions) :\n",
    "    f1Score = f1_score(y_test, modelPredictions, average=\"binary\")\n",
    "    recallScore = recall_score(y_test, modelPredictions, average=\"binary\")\n",
    "    precision = precision_score(y_test, modelPredictions, average=\"binary\")\n",
    "    accuracyScore = accuracy_score(y_test, modelPredictions)\n",
    "    kappaScore = cohen_kappa_score(y_test, modelPredictions)\n",
    "        \n",
    "    print(f\"F1score for {modelName} model: {f1Score:.5f} \")\n",
    "    print(f\"Accuracy for {modelName} model: {accuracyScore:.5f} \")\n",
    "    print(f\"Kappa for {modelName} model: {kappaScore:.5f} \") \n",
    "    print(f\"Precision for {modelName} model: {precision:.5f} \")\n",
    "    print(f\"Recall : The {modelName} model correctly identifed all customer who defaulted {recallScore:.5f} of the time.\")"
   ]
  },
  {
   "cell_type": "markdown",
   "metadata": {},
   "source": [
    "# Out-of-Box Model\n",
    "\n",
    "I will try C5.0 and Random Forest"
   ]
  },
  {
   "cell_type": "code",
   "execution_count": null,
   "metadata": {},
   "outputs": [],
   "source": [
    "survey = loadData()\n",
    "sD(cols_allX)"
   ]
  },
  {
   "cell_type": "markdown",
   "metadata": {},
   "source": [
    "## Basic Decision Tree"
   ]
  },
  {
   "cell_type": "code",
   "execution_count": 14,
   "metadata": {},
   "outputs": [
    {
     "name": "stdout",
     "output_type": "stream",
     "text": [
      "Index(['actualResults', 'predictions_rf'], dtype='object')\n",
      "F1score for tree model: 0.91620 \n",
      "Accuracy for tree model: 0.89778 \n",
      "Kappa for tree model: 0.78518 \n",
      "Precision for tree model: 0.92016 \n",
      "Recall : The tree model correctly identifed all customer who defaulted 0.91227 of the time.\n"
     ]
    }
   ],
   "source": [
    "# Basic Decsion Tree Model \n",
    "modelName = 'tree'\n",
    "model = tree.DecisionTreeClassifier(random_state=0)\n",
    "model.fit(sD.X_train, sD.y_train)\n",
    "predictions_tree= model.predict(sD.X_test)\n",
    "results_tree = predDF('rf',predictions_tree, sD.y_test )\n",
    "myMetrics(modelName, sD.y_test, predictions_tree)"
   ]
  },
  {
   "cell_type": "markdown",
   "metadata": {},
   "source": [
    "## Random Forest"
   ]
  },
  {
   "cell_type": "code",
   "execution_count": 17,
   "metadata": {},
   "outputs": [
    {
     "name": "stdout",
     "output_type": "stream",
     "text": [
      "Index(['actualResults', 'predictions_rf'], dtype='object')\n",
      "F1score for rf model: 0.93895 \n",
      "Accuracy for rf model: 0.92566 \n",
      "Kappa for rf model: 0.84392 \n",
      "Precision for rf model: 0.94459 \n",
      "Recall : The rf model correctly identifed all customer who defaulted 0.93338 of the time.\n"
     ]
    }
   ],
   "source": [
    "# Random Forest Model \n",
    "modelName = 'rf'\n",
    "model = RandomForestClassifier(random_state=0)\n",
    "model.fit(sD.X_train, sD.y_train)\n",
    "predictions_rf= model.predict(sD.X_test)\n",
    "results_rf = predDF('rf',predictions_rf, sD.y_test )\n",
    "myMetrics(modelName, sD.y_test, predictions_rf)"
   ]
  },
  {
   "cell_type": "markdown",
   "metadata": {},
   "source": [
    "## Support Vector Machine"
   ]
  },
  {
   "cell_type": "code",
   "execution_count": 18,
   "metadata": {},
   "outputs": [
    {
     "name": "stdout",
     "output_type": "stream",
     "text": [
      "Index(['actualResults', 'predictions_svm'], dtype='object')\n",
      "F1score for svm model: 0.75971 \n",
      "Accuracy for svm model: 0.61253 \n",
      "Kappa for svm model: 0.00000 \n",
      "Precision for svm model: 0.61253 \n",
      "Recall : The svm model correctly identifed all customer who defaulted 1.00000 of the time.\n"
     ]
    }
   ],
   "source": [
    "# SVM Model \n",
    "from sklearn import svm\n",
    "modelName = 'svm'\n",
    "model = svm.SVC(random_state=0)\n",
    "model.fit(sD.X_train, sD.y_train)\n",
    "predictions_svm= model.predict(sD.X_test)\n",
    "results_svm = predDF('svm',predictions_svm, sD.y_test )\n",
    "myMetrics(modelName, sD.y_test, predictions_svm)"
   ]
  },
  {
   "cell_type": "markdown",
   "metadata": {},
   "source": [
    "# Improve Random Forest Model"
   ]
  },
  {
   "cell_type": "code",
   "execution_count": 20,
   "metadata": {},
   "outputs": [
    {
     "name": "stdout",
     "output_type": "stream",
     "text": [
      "               salary          age  elevel     car  zipcode         credit  \\\n",
      "count     9898.000000  9898.000000  9898.0  9898.0   9898.0    9898.000000   \n",
      "unique            NaN          NaN     5.0    20.0      9.0            NaN   \n",
      "top               NaN          NaN     0.0    15.0      6.0            NaN   \n",
      "freq              NaN          NaN  2052.0   542.0   1155.0            NaN   \n",
      "mean     84870.862257    49.778642     NaN     NaN      NaN  249175.966620   \n",
      "std      37712.340836    17.596685     NaN     NaN      NaN  145211.572531   \n",
      "min      20000.000000    20.000000     NaN     NaN      NaN       0.000000   \n",
      "25%      52082.106040    35.000000     NaN     NaN      NaN  120806.813900   \n",
      "50%      84949.735155    50.000000     NaN     NaN      NaN  250607.146100   \n",
      "75%     117162.043375    65.000000     NaN     NaN      NaN  374639.701800   \n",
      "max     150000.000000    80.000000     NaN     NaN      NaN  500000.000000   \n",
      "\n",
      "         brand  \n",
      "count   9898.0  \n",
      "unique     2.0  \n",
      "top        1.0  \n",
      "freq    6154.0  \n",
      "mean       NaN  \n",
      "std        NaN  \n",
      "min        NaN  \n",
      "25%        NaN  \n",
      "50%        NaN  \n",
      "75%        NaN  \n",
      "max        NaN  \n"
     ]
    }
   ],
   "source": [
    "# start with clean Data\n",
    "survey = loadData()\n",
    "#sD(cols_allX)"
   ]
  },
  {
   "cell_type": "markdown",
   "metadata": {},
   "source": [
    "## Discretize by Binning"
   ]
  },
  {
   "cell_type": "markdown",
   "metadata": {},
   "source": [
    "### Age"
   ]
  },
  {
   "cell_type": "code",
   "execution_count": 40,
   "metadata": {},
   "outputs": [],
   "source": [
    "# Bin Age into Categorical Variable\n",
    "cut_labels_age = [20, 30, 40, 50,60,70]\n",
    "cut_bins = [19, 30, 40, 50, 60,70,81]\n",
    "survey['age_binned'] = pd.cut(survey['age'], bins=cut_bins, labels=cut_labels_age)\n",
    "survey.age_binned.value_counts()\n",
    "#survey = survey.drop(['age'],axis=1)\n",
    "survey['age_binned'] = survey.age_binned.astype('category')"
   ]
  },
  {
   "cell_type": "code",
   "execution_count": 41,
   "metadata": {},
   "outputs": [
    {
     "data": {
      "text/plain": [
       "20    1799\n",
       "30    1637\n",
       "50    1630\n",
       "40    1628\n",
       "60    1605\n",
       "70    1599\n",
       "Name: age_binned, dtype: int64"
      ]
     },
     "execution_count": 41,
     "metadata": {},
     "output_type": "execute_result"
    }
   ],
   "source": [
    "survey.age_binned.value_counts()"
   ]
  },
  {
   "cell_type": "code",
   "execution_count": 46,
   "metadata": {},
   "outputs": [
    {
     "data": {
      "text/html": [
       "<div>\n",
       "<style scoped>\n",
       "    .dataframe tbody tr th:only-of-type {\n",
       "        vertical-align: middle;\n",
       "    }\n",
       "\n",
       "    .dataframe tbody tr th {\n",
       "        vertical-align: top;\n",
       "    }\n",
       "\n",
       "    .dataframe thead th {\n",
       "        text-align: right;\n",
       "    }\n",
       "</style>\n",
       "<table border=\"1\" class=\"dataframe\">\n",
       "  <thead>\n",
       "    <tr style=\"text-align: right;\">\n",
       "      <th></th>\n",
       "      <th>salary</th>\n",
       "      <th>age</th>\n",
       "      <th>elevel</th>\n",
       "      <th>car</th>\n",
       "      <th>zipcode</th>\n",
       "      <th>credit</th>\n",
       "      <th>brand</th>\n",
       "      <th>age_binned</th>\n",
       "    </tr>\n",
       "  </thead>\n",
       "  <tbody>\n",
       "    <tr>\n",
       "      <td>count</td>\n",
       "      <td>9898.000000</td>\n",
       "      <td>9898.000000</td>\n",
       "      <td>9898.0</td>\n",
       "      <td>9898.0</td>\n",
       "      <td>9898.0</td>\n",
       "      <td>9898.000000</td>\n",
       "      <td>9898.0</td>\n",
       "      <td>9898.0</td>\n",
       "    </tr>\n",
       "    <tr>\n",
       "      <td>unique</td>\n",
       "      <td>NaN</td>\n",
       "      <td>NaN</td>\n",
       "      <td>5.0</td>\n",
       "      <td>20.0</td>\n",
       "      <td>9.0</td>\n",
       "      <td>NaN</td>\n",
       "      <td>2.0</td>\n",
       "      <td>6.0</td>\n",
       "    </tr>\n",
       "    <tr>\n",
       "      <td>top</td>\n",
       "      <td>NaN</td>\n",
       "      <td>NaN</td>\n",
       "      <td>0.0</td>\n",
       "      <td>15.0</td>\n",
       "      <td>6.0</td>\n",
       "      <td>NaN</td>\n",
       "      <td>1.0</td>\n",
       "      <td>20.0</td>\n",
       "    </tr>\n",
       "    <tr>\n",
       "      <td>freq</td>\n",
       "      <td>NaN</td>\n",
       "      <td>NaN</td>\n",
       "      <td>2052.0</td>\n",
       "      <td>542.0</td>\n",
       "      <td>1155.0</td>\n",
       "      <td>NaN</td>\n",
       "      <td>6154.0</td>\n",
       "      <td>1799.0</td>\n",
       "    </tr>\n",
       "    <tr>\n",
       "      <td>mean</td>\n",
       "      <td>84870.862257</td>\n",
       "      <td>49.778642</td>\n",
       "      <td>NaN</td>\n",
       "      <td>NaN</td>\n",
       "      <td>NaN</td>\n",
       "      <td>249175.966620</td>\n",
       "      <td>NaN</td>\n",
       "      <td>NaN</td>\n",
       "    </tr>\n",
       "    <tr>\n",
       "      <td>std</td>\n",
       "      <td>37712.340836</td>\n",
       "      <td>17.596685</td>\n",
       "      <td>NaN</td>\n",
       "      <td>NaN</td>\n",
       "      <td>NaN</td>\n",
       "      <td>145211.572531</td>\n",
       "      <td>NaN</td>\n",
       "      <td>NaN</td>\n",
       "    </tr>\n",
       "    <tr>\n",
       "      <td>min</td>\n",
       "      <td>20000.000000</td>\n",
       "      <td>20.000000</td>\n",
       "      <td>NaN</td>\n",
       "      <td>NaN</td>\n",
       "      <td>NaN</td>\n",
       "      <td>0.000000</td>\n",
       "      <td>NaN</td>\n",
       "      <td>NaN</td>\n",
       "    </tr>\n",
       "    <tr>\n",
       "      <td>25%</td>\n",
       "      <td>52082.106040</td>\n",
       "      <td>35.000000</td>\n",
       "      <td>NaN</td>\n",
       "      <td>NaN</td>\n",
       "      <td>NaN</td>\n",
       "      <td>120806.813900</td>\n",
       "      <td>NaN</td>\n",
       "      <td>NaN</td>\n",
       "    </tr>\n",
       "    <tr>\n",
       "      <td>50%</td>\n",
       "      <td>84949.735155</td>\n",
       "      <td>50.000000</td>\n",
       "      <td>NaN</td>\n",
       "      <td>NaN</td>\n",
       "      <td>NaN</td>\n",
       "      <td>250607.146100</td>\n",
       "      <td>NaN</td>\n",
       "      <td>NaN</td>\n",
       "    </tr>\n",
       "    <tr>\n",
       "      <td>75%</td>\n",
       "      <td>117162.043375</td>\n",
       "      <td>65.000000</td>\n",
       "      <td>NaN</td>\n",
       "      <td>NaN</td>\n",
       "      <td>NaN</td>\n",
       "      <td>374639.701800</td>\n",
       "      <td>NaN</td>\n",
       "      <td>NaN</td>\n",
       "    </tr>\n",
       "    <tr>\n",
       "      <td>max</td>\n",
       "      <td>150000.000000</td>\n",
       "      <td>80.000000</td>\n",
       "      <td>NaN</td>\n",
       "      <td>NaN</td>\n",
       "      <td>NaN</td>\n",
       "      <td>500000.000000</td>\n",
       "      <td>NaN</td>\n",
       "      <td>NaN</td>\n",
       "    </tr>\n",
       "  </tbody>\n",
       "</table>\n",
       "</div>"
      ],
      "text/plain": [
       "               salary          age  elevel     car  zipcode         credit  \\\n",
       "count     9898.000000  9898.000000  9898.0  9898.0   9898.0    9898.000000   \n",
       "unique            NaN          NaN     5.0    20.0      9.0            NaN   \n",
       "top               NaN          NaN     0.0    15.0      6.0            NaN   \n",
       "freq              NaN          NaN  2052.0   542.0   1155.0            NaN   \n",
       "mean     84870.862257    49.778642     NaN     NaN      NaN  249175.966620   \n",
       "std      37712.340836    17.596685     NaN     NaN      NaN  145211.572531   \n",
       "min      20000.000000    20.000000     NaN     NaN      NaN       0.000000   \n",
       "25%      52082.106040    35.000000     NaN     NaN      NaN  120806.813900   \n",
       "50%      84949.735155    50.000000     NaN     NaN      NaN  250607.146100   \n",
       "75%     117162.043375    65.000000     NaN     NaN      NaN  374639.701800   \n",
       "max     150000.000000    80.000000     NaN     NaN      NaN  500000.000000   \n",
       "\n",
       "         brand  age_binned  \n",
       "count   9898.0      9898.0  \n",
       "unique     2.0         6.0  \n",
       "top        1.0        20.0  \n",
       "freq    6154.0      1799.0  \n",
       "mean       NaN         NaN  \n",
       "std        NaN         NaN  \n",
       "min        NaN         NaN  \n",
       "25%        NaN         NaN  \n",
       "50%        NaN         NaN  \n",
       "75%        NaN         NaN  \n",
       "max        NaN         NaN  "
      ]
     },
     "execution_count": 46,
     "metadata": {},
     "output_type": "execute_result"
    }
   ],
   "source": [
    "# Verify\n",
    "survey.describe(include='all')"
   ]
  },
  {
   "cell_type": "code",
   "execution_count": 47,
   "metadata": {},
   "outputs": [
    {
     "name": "stdout",
     "output_type": "stream",
     "text": [
      "Index(['salary', 'age_binned', 'elevel', 'car', 'zipcode', 'credit'], dtype='object')\n",
      "0    0\n",
      "1    1\n",
      "2    0\n",
      "3    1\n",
      "4    0\n",
      "Name: brand, dtype: category\n",
      "Categories (2, int64): [0, 1]\n",
      "The number of observations in the Y training set are: 7423\n",
      "The number of observations in the X training set are: 7423\n",
      "The number of observations in the X testing set are: 2475\n",
      "The number of observations in the y testing set are: 2475\n",
      "0.2500505152556072\n",
      "0.2500505152556072\n"
     ]
    }
   ],
   "source": [
    "cols = ['salary','age_binned','elevel','car','zipcode','credit']\n",
    "sD(cols)"
   ]
  },
  {
   "cell_type": "code",
   "execution_count": 48,
   "metadata": {},
   "outputs": [
    {
     "name": "stdout",
     "output_type": "stream",
     "text": [
      "salary           0\n",
      "age              0\n",
      "elevel        2052\n",
      "car              0\n",
      "zipcode       1085\n",
      "credit         119\n",
      "brand         3744\n",
      "age_binned       0\n",
      "dtype: int64\n",
      "salary        0\n",
      "age           0\n",
      "elevel        0\n",
      "car           0\n",
      "zipcode       0\n",
      "credit        0\n",
      "brand         0\n",
      "age_binned    0\n",
      "dtype: int64\n"
     ]
    }
   ],
   "source": [
    "# are there NaNs?\n",
    "print((survey[survey.columns] == 0).sum())\n",
    "print(survey.isnull().sum())"
   ]
  },
  {
   "cell_type": "code",
   "execution_count": 51,
   "metadata": {},
   "outputs": [
    {
     "name": "stdout",
     "output_type": "stream",
     "text": [
      "Index(['actualResults', 'predictions_rf'], dtype='object')\n",
      "F1score for rf model: 0.93355 \n",
      "Accuracy for rf model: 0.91879 \n",
      "Kappa for rf model: 0.82914 \n",
      "Precision for rf model: 0.93572 \n",
      "Recall : The rf model correctly identifed all customer who defaulted 0.93140 of the time.\n"
     ]
    }
   ],
   "source": [
    "# Random Forest Model \n",
    "modelName = 'rf'\n",
    "model = RandomForestClassifier(random_state=0)\n",
    "model.fit(sD.X_train, sD.y_train)\n",
    "predictions_rf= model.predict(sD.X_test)\n",
    "results_rf = predDF('rf',predictions_rf, sD.y_test )\n",
    "myMetrics(modelName, sD.y_test, predictions_rf)"
   ]
  },
  {
   "cell_type": "markdown",
   "metadata": {},
   "source": [
    "### Salary"
   ]
  },
  {
   "cell_type": "code",
   "execution_count": 55,
   "metadata": {},
   "outputs": [],
   "source": [
    "survey['salary_binned'] = pd.DataFrame(pd.qcut(survey['salary'], q=60, precision= 0,labels=False))"
   ]
  },
  {
   "cell_type": "code",
   "execution_count": 56,
   "metadata": {},
   "outputs": [
    {
     "data": {
      "text/html": [
       "<div>\n",
       "<style scoped>\n",
       "    .dataframe tbody tr th:only-of-type {\n",
       "        vertical-align: middle;\n",
       "    }\n",
       "\n",
       "    .dataframe tbody tr th {\n",
       "        vertical-align: top;\n",
       "    }\n",
       "\n",
       "    .dataframe thead th {\n",
       "        text-align: right;\n",
       "    }\n",
       "</style>\n",
       "<table border=\"1\" class=\"dataframe\">\n",
       "  <thead>\n",
       "    <tr style=\"text-align: right;\">\n",
       "      <th></th>\n",
       "      <th>salary</th>\n",
       "      <th>age</th>\n",
       "      <th>elevel</th>\n",
       "      <th>car</th>\n",
       "      <th>zipcode</th>\n",
       "      <th>credit</th>\n",
       "      <th>brand</th>\n",
       "      <th>age_binned</th>\n",
       "      <th>salary_binned</th>\n",
       "    </tr>\n",
       "  </thead>\n",
       "  <tbody>\n",
       "    <tr>\n",
       "      <td>count</td>\n",
       "      <td>9898.000000</td>\n",
       "      <td>9898.000000</td>\n",
       "      <td>9898.0</td>\n",
       "      <td>9898.0</td>\n",
       "      <td>9898.0</td>\n",
       "      <td>9898.000000</td>\n",
       "      <td>9898.0</td>\n",
       "      <td>9898.0</td>\n",
       "      <td>9898.000000</td>\n",
       "    </tr>\n",
       "    <tr>\n",
       "      <td>unique</td>\n",
       "      <td>NaN</td>\n",
       "      <td>NaN</td>\n",
       "      <td>5.0</td>\n",
       "      <td>20.0</td>\n",
       "      <td>9.0</td>\n",
       "      <td>NaN</td>\n",
       "      <td>2.0</td>\n",
       "      <td>6.0</td>\n",
       "      <td>NaN</td>\n",
       "    </tr>\n",
       "    <tr>\n",
       "      <td>top</td>\n",
       "      <td>NaN</td>\n",
       "      <td>NaN</td>\n",
       "      <td>0.0</td>\n",
       "      <td>15.0</td>\n",
       "      <td>6.0</td>\n",
       "      <td>NaN</td>\n",
       "      <td>1.0</td>\n",
       "      <td>20.0</td>\n",
       "      <td>NaN</td>\n",
       "    </tr>\n",
       "    <tr>\n",
       "      <td>freq</td>\n",
       "      <td>NaN</td>\n",
       "      <td>NaN</td>\n",
       "      <td>2052.0</td>\n",
       "      <td>542.0</td>\n",
       "      <td>1155.0</td>\n",
       "      <td>NaN</td>\n",
       "      <td>6154.0</td>\n",
       "      <td>1799.0</td>\n",
       "      <td>NaN</td>\n",
       "    </tr>\n",
       "    <tr>\n",
       "      <td>mean</td>\n",
       "      <td>84870.862257</td>\n",
       "      <td>49.778642</td>\n",
       "      <td>NaN</td>\n",
       "      <td>NaN</td>\n",
       "      <td>NaN</td>\n",
       "      <td>249175.966620</td>\n",
       "      <td>NaN</td>\n",
       "      <td>NaN</td>\n",
       "      <td>29.499899</td>\n",
       "    </tr>\n",
       "    <tr>\n",
       "      <td>std</td>\n",
       "      <td>37712.340836</td>\n",
       "      <td>17.596685</td>\n",
       "      <td>NaN</td>\n",
       "      <td>NaN</td>\n",
       "      <td>NaN</td>\n",
       "      <td>145211.572531</td>\n",
       "      <td>NaN</td>\n",
       "      <td>NaN</td>\n",
       "      <td>17.320142</td>\n",
       "    </tr>\n",
       "    <tr>\n",
       "      <td>min</td>\n",
       "      <td>20000.000000</td>\n",
       "      <td>20.000000</td>\n",
       "      <td>NaN</td>\n",
       "      <td>NaN</td>\n",
       "      <td>NaN</td>\n",
       "      <td>0.000000</td>\n",
       "      <td>NaN</td>\n",
       "      <td>NaN</td>\n",
       "      <td>0.000000</td>\n",
       "    </tr>\n",
       "    <tr>\n",
       "      <td>25%</td>\n",
       "      <td>52082.106040</td>\n",
       "      <td>35.000000</td>\n",
       "      <td>NaN</td>\n",
       "      <td>NaN</td>\n",
       "      <td>NaN</td>\n",
       "      <td>120806.813900</td>\n",
       "      <td>NaN</td>\n",
       "      <td>NaN</td>\n",
       "      <td>14.250000</td>\n",
       "    </tr>\n",
       "    <tr>\n",
       "      <td>50%</td>\n",
       "      <td>84949.735155</td>\n",
       "      <td>50.000000</td>\n",
       "      <td>NaN</td>\n",
       "      <td>NaN</td>\n",
       "      <td>NaN</td>\n",
       "      <td>250607.146100</td>\n",
       "      <td>NaN</td>\n",
       "      <td>NaN</td>\n",
       "      <td>29.500000</td>\n",
       "    </tr>\n",
       "    <tr>\n",
       "      <td>75%</td>\n",
       "      <td>117162.043375</td>\n",
       "      <td>65.000000</td>\n",
       "      <td>NaN</td>\n",
       "      <td>NaN</td>\n",
       "      <td>NaN</td>\n",
       "      <td>374639.701800</td>\n",
       "      <td>NaN</td>\n",
       "      <td>NaN</td>\n",
       "      <td>44.750000</td>\n",
       "    </tr>\n",
       "    <tr>\n",
       "      <td>max</td>\n",
       "      <td>150000.000000</td>\n",
       "      <td>80.000000</td>\n",
       "      <td>NaN</td>\n",
       "      <td>NaN</td>\n",
       "      <td>NaN</td>\n",
       "      <td>500000.000000</td>\n",
       "      <td>NaN</td>\n",
       "      <td>NaN</td>\n",
       "      <td>59.000000</td>\n",
       "    </tr>\n",
       "  </tbody>\n",
       "</table>\n",
       "</div>"
      ],
      "text/plain": [
       "               salary          age  elevel     car  zipcode         credit  \\\n",
       "count     9898.000000  9898.000000  9898.0  9898.0   9898.0    9898.000000   \n",
       "unique            NaN          NaN     5.0    20.0      9.0            NaN   \n",
       "top               NaN          NaN     0.0    15.0      6.0            NaN   \n",
       "freq              NaN          NaN  2052.0   542.0   1155.0            NaN   \n",
       "mean     84870.862257    49.778642     NaN     NaN      NaN  249175.966620   \n",
       "std      37712.340836    17.596685     NaN     NaN      NaN  145211.572531   \n",
       "min      20000.000000    20.000000     NaN     NaN      NaN       0.000000   \n",
       "25%      52082.106040    35.000000     NaN     NaN      NaN  120806.813900   \n",
       "50%      84949.735155    50.000000     NaN     NaN      NaN  250607.146100   \n",
       "75%     117162.043375    65.000000     NaN     NaN      NaN  374639.701800   \n",
       "max     150000.000000    80.000000     NaN     NaN      NaN  500000.000000   \n",
       "\n",
       "         brand  age_binned  salary_binned  \n",
       "count   9898.0      9898.0    9898.000000  \n",
       "unique     2.0         6.0            NaN  \n",
       "top        1.0        20.0            NaN  \n",
       "freq    6154.0      1799.0            NaN  \n",
       "mean       NaN         NaN      29.499899  \n",
       "std        NaN         NaN      17.320142  \n",
       "min        NaN         NaN       0.000000  \n",
       "25%        NaN         NaN      14.250000  \n",
       "50%        NaN         NaN      29.500000  \n",
       "75%        NaN         NaN      44.750000  \n",
       "max        NaN         NaN      59.000000  "
      ]
     },
     "execution_count": 56,
     "metadata": {},
     "output_type": "execute_result"
    }
   ],
   "source": [
    "# Verify\n",
    "survey.describe(include='all')"
   ]
  },
  {
   "cell_type": "code",
   "execution_count": 57,
   "metadata": {},
   "outputs": [
    {
     "data": {
      "text/plain": [
       "55    165\n",
       "57    165\n",
       "27    165\n",
       "19    165\n",
       "11    165\n",
       "3     165\n",
       "58    165\n",
       "50    165\n",
       "42    165\n",
       "34    165\n",
       "26    165\n",
       "18    165\n",
       "10    165\n",
       "2     165\n",
       "49    165\n",
       "47    165\n",
       "41    165\n",
       "33    165\n",
       "25    165\n",
       "17    165\n",
       "9     165\n",
       "1     165\n",
       "56    165\n",
       "48    165\n",
       "32    165\n",
       "24    165\n",
       "16    165\n",
       "8     165\n",
       "35    165\n",
       "43    165\n",
       "51    165\n",
       "59    165\n",
       "39    165\n",
       "31    165\n",
       "23    165\n",
       "15    165\n",
       "7     165\n",
       "54    165\n",
       "46    165\n",
       "38    165\n",
       "30    165\n",
       "22    165\n",
       "14    165\n",
       "6     165\n",
       "53    165\n",
       "45    165\n",
       "37    165\n",
       "29    165\n",
       "21    165\n",
       "13    165\n",
       "5     165\n",
       "52    165\n",
       "44    165\n",
       "36    165\n",
       "28    165\n",
       "12    165\n",
       "4     165\n",
       "0     165\n",
       "40    164\n",
       "20    164\n",
       "Name: salary_binned, dtype: int64"
      ]
     },
     "execution_count": 57,
     "metadata": {},
     "output_type": "execute_result"
    }
   ],
   "source": [
    "survey.salary_binned.value_counts()"
   ]
  },
  {
   "cell_type": "code",
   "execution_count": 58,
   "metadata": {},
   "outputs": [
    {
     "name": "stdout",
     "output_type": "stream",
     "text": [
      "Index(['salary_binned', 'age', 'elevel', 'car', 'zipcode', 'credit'], dtype='object')\n",
      "0    0\n",
      "1    1\n",
      "2    0\n",
      "3    1\n",
      "4    0\n",
      "Name: brand, dtype: category\n",
      "Categories (2, int64): [0, 1]\n",
      "The number of observations in the Y training set are: 7423\n",
      "The number of observations in the X training set are: 7423\n",
      "The number of observations in the X testing set are: 2475\n",
      "The number of observations in the y testing set are: 2475\n",
      "0.2500505152556072\n",
      "0.2500505152556072\n"
     ]
    }
   ],
   "source": [
    "cols = ['salary_binned','age','elevel','car','zipcode','credit']\n",
    "sD(cols)"
   ]
  },
  {
   "cell_type": "code",
   "execution_count": 59,
   "metadata": {},
   "outputs": [
    {
     "name": "stdout",
     "output_type": "stream",
     "text": [
      "Index(['actualResults', 'predictions_rf'], dtype='object')\n",
      "F1score for rf model: 0.93754 \n",
      "Accuracy for rf model: 0.92404 \n",
      "Kappa for rf model: 0.84065 \n",
      "Precision for rf model: 0.94444 \n",
      "Recall : The rf model correctly identifed all customer who defaulted 0.93074 of the time.\n"
     ]
    }
   ],
   "source": [
    "# Random Forest Model \n",
    "modelName = 'rf'\n",
    "model = RandomForestClassifier(random_state=0)\n",
    "model.fit(sD.X_train, sD.y_train)\n",
    "predictions_rf= model.predict(sD.X_test)\n",
    "results_rf = predDF('rf',predictions_rf, sD.y_test )\n",
    "myMetrics(modelName, sD.y_test, predictions_rf)"
   ]
  },
  {
   "cell_type": "markdown",
   "metadata": {},
   "source": [
    "### Credit\n",
    "Binning Age and Salary did not improve the model. I will not bother binning credit. "
   ]
  },
  {
   "cell_type": "markdown",
   "metadata": {},
   "source": [
    "## Class Imbalance"
   ]
  },
  {
   "cell_type": "code",
   "execution_count": 60,
   "metadata": {},
   "outputs": [
    {
     "name": "stdout",
     "output_type": "stream",
     "text": [
      "               salary          age  elevel     car  zipcode         credit  \\\n",
      "count     9898.000000  9898.000000  9898.0  9898.0   9898.0    9898.000000   \n",
      "unique            NaN          NaN     5.0    20.0      9.0            NaN   \n",
      "top               NaN          NaN     0.0    15.0      6.0            NaN   \n",
      "freq              NaN          NaN  2052.0   542.0   1155.0            NaN   \n",
      "mean     84870.862257    49.778642     NaN     NaN      NaN  249175.966620   \n",
      "std      37712.340836    17.596685     NaN     NaN      NaN  145211.572531   \n",
      "min      20000.000000    20.000000     NaN     NaN      NaN       0.000000   \n",
      "25%      52082.106040    35.000000     NaN     NaN      NaN  120806.813900   \n",
      "50%      84949.735155    50.000000     NaN     NaN      NaN  250607.146100   \n",
      "75%     117162.043375    65.000000     NaN     NaN      NaN  374639.701800   \n",
      "max     150000.000000    80.000000     NaN     NaN      NaN  500000.000000   \n",
      "\n",
      "         brand  age_binned  salary_binned  \n",
      "count   9898.0      9898.0    9898.000000  \n",
      "unique     2.0         6.0            NaN  \n",
      "top        1.0        20.0            NaN  \n",
      "freq    6154.0      1799.0            NaN  \n",
      "mean       NaN         NaN      29.499899  \n",
      "std        NaN         NaN      17.320142  \n",
      "min        NaN         NaN       0.000000  \n",
      "25%        NaN         NaN      14.250000  \n",
      "50%        NaN         NaN      29.500000  \n",
      "75%        NaN         NaN      44.750000  \n",
      "max        NaN         NaN      59.000000  \n",
      "Index(['salary', 'age', 'elevel', 'car', 'zipcode', 'credit'], dtype='object')\n",
      "0    0\n",
      "1    1\n",
      "2    0\n",
      "3    1\n",
      "4    0\n",
      "Name: brand, dtype: category\n",
      "Categories (2, int64): [0, 1]\n",
      "The number of observations in the Y training set are: 7423\n",
      "The number of observations in the X training set are: 7423\n",
      "The number of observations in the X testing set are: 2475\n",
      "The number of observations in the y testing set are: 2475\n",
      "0.2500505152556072\n",
      "0.2500505152556072\n"
     ]
    }
   ],
   "source": [
    "survey = loadData()\n",
    "sD(cols_allX)"
   ]
  },
  {
   "cell_type": "code",
   "execution_count": 61,
   "metadata": {},
   "outputs": [
    {
     "data": {
      "text/plain": [
       "1    4638\n",
       "0    2785\n",
       "Name: brand, dtype: int64"
      ]
     },
     "execution_count": 61,
     "metadata": {},
     "output_type": "execute_result"
    }
   ],
   "source": [
    "sD.y_train.value_counts()"
   ]
  },
  {
   "cell_type": "code",
   "execution_count": 62,
   "metadata": {},
   "outputs": [],
   "source": [
    "# create the object.\n",
    "over_sampler = RandomOverSampler()\n",
    "# fit the object to the training data.\n",
    "x_train_over, y_train_over = over_sampler.fit_sample(sD.X_train, sD.y_train)"
   ]
  },
  {
   "cell_type": "code",
   "execution_count": 63,
   "metadata": {},
   "outputs": [
    {
     "data": {
      "text/plain": [
       "1    4638\n",
       "0    4638\n",
       "Name: brand, dtype: int64"
      ]
     },
     "execution_count": 63,
     "metadata": {},
     "output_type": "execute_result"
    }
   ],
   "source": [
    "y_train_over.value_counts()"
   ]
  },
  {
   "cell_type": "code",
   "execution_count": 64,
   "metadata": {},
   "outputs": [],
   "source": [
    "under_sampler = RandomUnderSampler()\n",
    "\n",
    "# fit the object to the training data.\n",
    "x_train_under, y_train_under = under_sampler.fit_sample(sD.X_train, sD.y_train)"
   ]
  },
  {
   "cell_type": "code",
   "execution_count": 65,
   "metadata": {},
   "outputs": [
    {
     "data": {
      "text/plain": [
       "1    2785\n",
       "0    2785\n",
       "Name: brand, dtype: int64"
      ]
     },
     "execution_count": 65,
     "metadata": {},
     "output_type": "execute_result"
    }
   ],
   "source": [
    "y_train_under.value_counts()"
   ]
  },
  {
   "cell_type": "code",
   "execution_count": 66,
   "metadata": {},
   "outputs": [
    {
     "name": "stdout",
     "output_type": "stream",
     "text": [
      "Index(['actualResults', 'predictions_rf_randOver'], dtype='object')\n",
      "F1score for rf_randOver model: 0.93750 \n",
      "Accuracy for rf_randOver model: 0.92485 \n",
      "Kappa for rf_randOver model: 0.84336 \n",
      "Precision for rf_randOver model: 0.95548 \n",
      "Recall : The rf_randOver model correctly identifed all customer who defaulted 0.92018 of the time.\n"
     ]
    }
   ],
   "source": [
    "# Random Forest Model - Oversampling\n",
    "modelName = 'rf_randOver'\n",
    "rf_model = RandomForestClassifier(random_state=0)\n",
    "rf_model.fit(x_train_over, y_train_over) # train_over\n",
    "predictions_rf= rf_model.predict(sD.X_test)\n",
    "results_rf = predDF(modelName,predictions_rf, sD.y_test )\n",
    "myMetrics(modelName, sD.y_test, predictions_rf)"
   ]
  },
  {
   "cell_type": "code",
   "execution_count": 67,
   "metadata": {},
   "outputs": [
    {
     "name": "stdout",
     "output_type": "stream",
     "text": [
      "Index(['actualResults', 'predictions_rf_randUnder'], dtype='object')\n",
      "F1score for rf_randUnder model: 0.92825 \n",
      "Accuracy for rf_randUnder model: 0.91556 \n",
      "Kappa for rf_randUnder model: 0.82607 \n",
      "Precision for rf_randUnder model: 0.96779 \n",
      "Recall : The rf_randUnder model correctly identifed all customer who defaulted 0.89182 of the time.\n"
     ]
    }
   ],
   "source": [
    "# Random Forest Model - Undersampling\n",
    "modelName = 'rf_randUnder'\n",
    "rf_model = RandomForestClassifier(random_state=0)\n",
    "rf_model.fit(x_train_under, y_train_under) # train_under\n",
    "predictions_rf= rf_model.predict(sD.X_test)\n",
    "results_rf = predDF(modelName,predictions_rf, sD.y_test )\n",
    "myMetrics(modelName, sD.y_test, predictions_rf)"
   ]
  },
  {
   "cell_type": "markdown",
   "metadata": {},
   "source": [
    "## Parameter Tuning\n",
    "The out-of-box random forest performed the best. I will tune that model.\n"
   ]
  },
  {
   "cell_type": "code",
   "execution_count": 68,
   "metadata": {},
   "outputs": [
    {
     "name": "stdout",
     "output_type": "stream",
     "text": [
      "               salary          age  elevel     car  zipcode         credit  \\\n",
      "count     9898.000000  9898.000000  9898.0  9898.0   9898.0    9898.000000   \n",
      "unique            NaN          NaN     5.0    20.0      9.0            NaN   \n",
      "top               NaN          NaN     0.0    15.0      6.0            NaN   \n",
      "freq              NaN          NaN  2052.0   542.0   1155.0            NaN   \n",
      "mean     84870.862257    49.778642     NaN     NaN      NaN  249175.966620   \n",
      "std      37712.340836    17.596685     NaN     NaN      NaN  145211.572531   \n",
      "min      20000.000000    20.000000     NaN     NaN      NaN       0.000000   \n",
      "25%      52082.106040    35.000000     NaN     NaN      NaN  120806.813900   \n",
      "50%      84949.735155    50.000000     NaN     NaN      NaN  250607.146100   \n",
      "75%     117162.043375    65.000000     NaN     NaN      NaN  374639.701800   \n",
      "max     150000.000000    80.000000     NaN     NaN      NaN  500000.000000   \n",
      "\n",
      "         brand  age_binned  salary_binned  \n",
      "count   9898.0      9898.0    9898.000000  \n",
      "unique     2.0         6.0            NaN  \n",
      "top        1.0        20.0            NaN  \n",
      "freq    6154.0      1799.0            NaN  \n",
      "mean       NaN         NaN      29.499899  \n",
      "std        NaN         NaN      17.320142  \n",
      "min        NaN         NaN       0.000000  \n",
      "25%        NaN         NaN      14.250000  \n",
      "50%        NaN         NaN      29.500000  \n",
      "75%        NaN         NaN      44.750000  \n",
      "max        NaN         NaN      59.000000  \n",
      "Index(['salary', 'age', 'elevel', 'car', 'zipcode', 'credit'], dtype='object')\n",
      "0    0\n",
      "1    1\n",
      "2    0\n",
      "3    1\n",
      "4    0\n",
      "Name: brand, dtype: category\n",
      "Categories (2, int64): [0, 1]\n",
      "The number of observations in the Y training set are: 7423\n",
      "The number of observations in the X training set are: 7423\n",
      "The number of observations in the X testing set are: 2475\n",
      "The number of observations in the y testing set are: 2475\n",
      "0.2500505152556072\n",
      "0.2500505152556072\n"
     ]
    }
   ],
   "source": [
    "survey = loadData()\n",
    "sD(cols_allX)"
   ]
  },
  {
   "cell_type": "code",
   "execution_count": 71,
   "metadata": {},
   "outputs": [
    {
     "name": "stdout",
     "output_type": "stream",
     "text": [
      "Index(['actualResults', 'predictions_rf'], dtype='object')\n",
      "F1score for rf model: 0.93895 \n",
      "Accuracy for rf model: 0.92566 \n",
      "Kappa for rf model: 0.84392 \n",
      "Precision for rf model: 0.94459 \n",
      "Recall : The rf model correctly identifed all customer who defaulted 0.93338 of the time.\n"
     ]
    }
   ],
   "source": [
    "# Random Forest Model \n",
    "modelName = 'rf'\n",
    "model_rf_beforeTuning = RandomForestClassifier(random_state=0)\n",
    "model_rf_beforeTuning.fit(sD.X_train, sD.y_train)\n",
    "predictions_rf= model_rf_beforeTuning.predict(sD.X_test)\n",
    "results_rf = predDF('rf',predictions_rf, sD.y_test )\n",
    "myMetrics(modelName, sD.y_test, predictions_rf)"
   ]
  },
  {
   "cell_type": "code",
   "execution_count": 70,
   "metadata": {},
   "outputs": [
    {
     "name": "stdout",
     "output_type": "stream",
     "text": [
      "{'n_estimators': [200, 400, 600, 800, 1000, 1200, 1400, 1600, 1800, 2000], 'max_features': ['auto', 'sqrt'], 'max_depth': [10, 20, 30, 40, 50, 60, 70, 80, 90, 100, 110, None], 'min_samples_split': [2, 5, 10, 15, 20, 25, 30, 35, 40], 'min_samples_leaf': [1, 2, 4], 'bootstrap': [True, False]}\n"
     ]
    }
   ],
   "source": [
    "#Random Search with Cross Validation\n",
    "\n",
    "# Number of trees (estimators) in random forest\n",
    "n_estimators = [int(x) for x in np.linspace(start = 200, stop = 2000, num = 10)]\n",
    "\n",
    "# Number of features to consider at every split\n",
    "max_features = ['auto', 'sqrt']\n",
    "\n",
    "# Maximum number of levels in tree\n",
    "max_depth = [int(x) for x in np.linspace(10, 110, num = 11)]\n",
    "max_depth.append(None)\n",
    "\n",
    "# Minimum number of samples required to split a node\n",
    "min_samples_split = [2, 5, 10,15,20,25,30,35,40]\n",
    "\n",
    "# Minimum number of samples required at each leaf node\n",
    "min_samples_leaf = [1, 2, 4]\n",
    "\n",
    "# Method of selecting samples for training each tree\n",
    "bootstrap = [True, False]\n",
    "\n",
    "# Create the random grid\n",
    "random_grid = {'n_estimators': n_estimators,\n",
    "               'max_features': max_features,\n",
    "               'max_depth': max_depth,\n",
    "               'min_samples_split': min_samples_split,\n",
    "               'min_samples_leaf': min_samples_leaf,\n",
    "               'bootstrap': bootstrap}\n",
    "\n",
    "print(random_grid)"
   ]
  },
  {
   "cell_type": "code",
   "execution_count": 74,
   "metadata": {},
   "outputs": [
    {
     "name": "stdout",
     "output_type": "stream",
     "text": [
      "Fitting 10 folds for each of 10 candidates, totalling 100 fits\n"
     ]
    },
    {
     "name": "stderr",
     "output_type": "stream",
     "text": [
      "[Parallel(n_jobs=-1)]: Using backend LokyBackend with 4 concurrent workers.\n",
      "[Parallel(n_jobs=-1)]: Done  33 tasks      | elapsed:   30.0s\n",
      "[Parallel(n_jobs=-1)]: Done 100 out of 100 | elapsed:  5.7min finished\n"
     ]
    }
   ],
   "source": [
    "# Use the random grid to search for best hyperparameters\n",
    "# First create the base model to tune\n",
    "rf = model_rf_beforeTuning\n",
    "\n",
    "\n",
    "# Random search of parameters, using 10 fold cross validation, \n",
    "# search across 100 different combinations, and use all available cores\n",
    "rf_randomSearch = RandomizedSearchCV(estimator=rf, param_distributions=random_grid,\n",
    "                              n_iter = 10, scoring='neg_mean_absolute_error', # takes forever to run\n",
    "                              cv = 10, verbose=2, random_state=42, n_jobs=-1,\n",
    "                              return_train_score=True)\n",
    "\n",
    "# Fit the random search model\n",
    "rf_randomSearch.fit(sD.X_train, sD.y_train);\n"
   ]
  },
  {
   "cell_type": "code",
   "execution_count": 76,
   "metadata": {},
   "outputs": [
    {
     "data": {
      "text/plain": [
       "{'n_estimators': 1000,\n",
       " 'min_samples_split': 30,\n",
       " 'min_samples_leaf': 1,\n",
       " 'max_features': 'sqrt',\n",
       " 'max_depth': 110,\n",
       " 'bootstrap': True}"
      ]
     },
     "execution_count": 76,
     "metadata": {},
     "output_type": "execute_result"
    }
   ],
   "source": [
    "rf_randomSearch.best_params_"
   ]
  },
  {
   "cell_type": "markdown",
   "metadata": {},
   "source": [
    "Best Parameters: \n",
    "\n",
    "{'n_estimators': 1000,\n",
    " 'min_samples_split': 30,\n",
    " 'min_samples_leaf': 1,\n",
    " 'max_features': 'sqrt',\n",
    " 'max_depth': 110,\n",
    " 'bootstrap': True}\n",
    " \n",
    " Pasted this here since randomizedSearch takes quite a bit to run"
   ]
  },
  {
   "cell_type": "code",
   "execution_count": 78,
   "metadata": {},
   "outputs": [
    {
     "name": "stdout",
     "output_type": "stream",
     "text": [
      "Index(['actualResults', 'predictions_rf_tuned'], dtype='object')\n",
      "F1score for rf_tuned model: 0.94156 \n",
      "Accuracy for rf_tuned model: 0.92848 \n",
      "Kappa for rf_tuned model: 0.84943 \n",
      "Precision for rf_tuned model: 0.94250 \n",
      "Recall : The rf_tuned model correctly identifed all customer who defaulted 0.94063 of the time.\n"
     ]
    }
   ],
   "source": [
    "# Random Forest Model - After Tuning\n",
    "modelName = 'rf_tuned'\n",
    "rf_tuned = RandomForestClassifier(n_estimators= 1000,\n",
    " min_samples_split= 30,\n",
    " min_samples_leaf= 1,\n",
    " max_features= 'sqrt',\n",
    " max_depth=110,\n",
    " bootstrap= True, random_state=0)\n",
    "\n",
    "rf_tuned.fit(sD.X_train, sD.y_train) \n",
    "predictions_rf= rf_tuned.predict(sD.X_test)\n",
    "results_rf = predDF(modelName,predictions_rf, sD.y_test )\n",
    "myMetrics(modelName, sD.y_test, predictions_rf)\n"
   ]
  },
  {
   "cell_type": "markdown",
   "metadata": {},
   "source": [
    "# K-Fold Cross Validation Train/Test Split\n",
    "now using best parameters:"
   ]
  },
  {
   "cell_type": "code",
   "execution_count": 87,
   "metadata": {},
   "outputs": [
    {
     "name": "stdout",
     "output_type": "stream",
     "text": [
      "               salary          age  elevel     car  zipcode         credit  \\\n",
      "count     9898.000000  9898.000000  9898.0  9898.0   9898.0    9898.000000   \n",
      "unique            NaN          NaN     5.0    20.0      9.0            NaN   \n",
      "top               NaN          NaN     0.0    15.0      6.0            NaN   \n",
      "freq              NaN          NaN  2052.0   542.0   1155.0            NaN   \n",
      "mean     84870.862257    49.778642     NaN     NaN      NaN  249175.966620   \n",
      "std      37712.340836    17.596685     NaN     NaN      NaN  145211.572531   \n",
      "min      20000.000000    20.000000     NaN     NaN      NaN       0.000000   \n",
      "25%      52082.106040    35.000000     NaN     NaN      NaN  120806.813900   \n",
      "50%      84949.735155    50.000000     NaN     NaN      NaN  250607.146100   \n",
      "75%     117162.043375    65.000000     NaN     NaN      NaN  374639.701800   \n",
      "max     150000.000000    80.000000     NaN     NaN      NaN  500000.000000   \n",
      "\n",
      "         brand  age_binned  salary_binned  \n",
      "count   9898.0      9898.0    9898.000000  \n",
      "unique     2.0         6.0            NaN  \n",
      "top        1.0        20.0            NaN  \n",
      "freq    6154.0      1799.0            NaN  \n",
      "mean       NaN         NaN      29.499899  \n",
      "std        NaN         NaN      17.320142  \n",
      "min        NaN         NaN       0.000000  \n",
      "25%        NaN         NaN      14.250000  \n",
      "50%        NaN         NaN      29.500000  \n",
      "75%        NaN         NaN      44.750000  \n",
      "max        NaN         NaN      59.000000  \n"
     ]
    }
   ],
   "source": [
    "survey = loadData()"
   ]
  },
  {
   "cell_type": "code",
   "execution_count": 88,
   "metadata": {},
   "outputs": [],
   "source": [
    "X = survey[cols_allX]\n",
    "y = survey['brand']"
   ]
  },
  {
   "cell_type": "code",
   "execution_count": 95,
   "metadata": {},
   "outputs": [
    {
     "name": "stdout",
     "output_type": "stream",
     "text": [
      "0.9225110559589831\n",
      "0.8355590946660328\n",
      "0.9374161516274835\n",
      "0.9404288434951067\n",
      "0.9344811825548112\n"
     ]
    }
   ],
   "source": [
    "# KFold Cross Validation approach\n",
    "kf = KFold(n_splits=10,shuffle=True, random_state=42)\n",
    "kf.split(X)    \n",
    "     \n",
    "# Initialize the accuracy of the models to blank list. The accuracy of each model will be appended to this list\n",
    "f1Score = []\n",
    "accuracyScore = []\n",
    "kappaScore = []\n",
    "precisionScore = []\n",
    "recallScore = []\n",
    " \n",
    "# Iterate over each train-test split\n",
    "for train_index, test_index in kf.split(X):\n",
    "    # Split train-test\n",
    "    X_train, X_test = X.iloc[train_index], X.iloc[test_index]\n",
    "    y_train, y_test = y[train_index], y[test_index]\n",
    "    # Train the model\n",
    "    model = rf_tuned.fit(X_train, y_train)\n",
    "    # Append to accuracy_model the accuracy of the model\n",
    "    accuracyScore.append(accuracy_score(y_test, model.predict(X_test), normalize=True))\n",
    "    accuracy_mean = sum(accuracyScore)/10\n",
    "    kappaScore.append(cohen_kappa_score(y_test, model.predict(X_test)))\n",
    "    kappa_mean = sum(kappaScore)/10\n",
    "    f1Score.append(f1_score(y_test, model.predict(X_test), average=\"binary\"))\n",
    "    f1_mean = sum(f1Score)/10\n",
    "    precisionScore.append(precision_score(y_test, model.predict(X_test), average=\"binary\"))\n",
    "    precision_mean = sum(precisionScore)/10\n",
    "    recallScore.append(recall_score(y_test, model.predict(X_test), average=\"binary\"))\n",
    "    recall_mean = sum(recallScore)/10\n",
    " \n",
    "# Print the accuracy    \n",
    "print(accuracy_mean)\n",
    "print(kappa_mean)\n",
    "print(f1_mean)\n",
    "print(precision_mean)\n",
    "print(recall_mean)"
   ]
  },
  {
   "cell_type": "markdown",
   "metadata": {},
   "source": [
    "# Stratified KFold Cross Validation Train/Test Split\n",
    "We could try stratified sampling for "
   ]
  },
  {
   "cell_type": "code",
   "execution_count": 99,
   "metadata": {},
   "outputs": [
    {
     "name": "stdout",
     "output_type": "stream",
     "text": [
      "0.9231156866950597\n",
      "0.8370730226845904\n",
      "0.937850689087617\n",
      "0.9426179699150271\n",
      "0.9332132298595714\n"
     ]
    }
   ],
   "source": [
    "# StratifiedKFold Cross Validation approach\n",
    "kf = StratifiedKFold(n_splits=10,shuffle=True, random_state=42)\n",
    "kf.split(X,y)    \n",
    "     \n",
    "# Initialize the accuracy of the models to blank list. The accuracy of each model will be appended to this list\n",
    "f1Score = []\n",
    "accuracyScore = []\n",
    "kappaScore = []\n",
    "precisionScore = []\n",
    "recallScore = []\n",
    " \n",
    "# Iterate over each train-test split\n",
    "for train_index, test_index in kf.split(X,y):\n",
    "    # Split train-test\n",
    "    X_train, X_test = X.iloc[train_index], X.iloc[test_index]\n",
    "    y_train, y_test = y[train_index], y[test_index]\n",
    "    # Train the model\n",
    "    model = rf_tuned.fit(X_train, y_train)\n",
    "    # Append to accuracy_model the accuracy of the model\n",
    "    accuracyScore.append(accuracy_score(y_test, model.predict(X_test), normalize=True))\n",
    "    accuracy_mean = sum(accuracyScore)/10\n",
    "    kappaScore.append(cohen_kappa_score(y_test, model.predict(X_test)))\n",
    "    kappa_mean = sum(kappaScore)/10\n",
    "    f1Score.append(f1_score(y_test, model.predict(X_test), average=\"binary\"))\n",
    "    f1_mean = sum(f1Score)/10\n",
    "    precisionScore.append(precision_score(y_test, model.predict(X_test), average=\"binary\"))\n",
    "    precision_mean = sum(precisionScore)/10\n",
    "    recallScore.append(recall_score(y_test, model.predict(X_test), average=\"binary\"))\n",
    "    recall_mean = sum(recallScore)/10\n",
    " \n",
    "# Print the accuracy    \n",
    "print(accuracy_mean)\n",
    "print(kappa_mean)\n",
    "print(f1_mean)\n",
    "print(precision_mean)\n",
    "print(recall_mean)"
   ]
  },
  {
   "cell_type": "code",
   "execution_count": 108,
   "metadata": {},
   "outputs": [
    {
     "data": {
      "image/png": "[encoded data removed]",
      "text/plain": [
       "<Figure size 432x288 with 2 Axes>"
      ]
     },
     "metadata": {
      "needs_background": "light"
     },
     "output_type": "display_data"
    }
   ],
   "source": [
    "# Plot Confusion Matrix\n",
    "disp = plot_confusion_matrix(rf_tuned, X_test, y_test,\n",
    "                                 display_labels=[\"Acer\",\"Sony\"],\n",
    "                                 cmap=plt.cm.Blues,\n",
    "                                 normalize=None, values_format='.0f')\n",
    "\n",
    "#disp.ax_.set_title(\"Predictions after Removing Outliers\")"
   ]
  },
  {
   "cell_type": "markdown",
   "metadata": {},
   "source": [
    "# Variable Importance"
   ]
  },
  {
   "cell_type": "code",
   "execution_count": 100,
   "metadata": {},
   "outputs": [
    {
     "data": {
      "text/plain": [
       "array([0.62914892, 0.27779141, 0.0098607 , 0.02103707, 0.01494323,\n",
       "       0.04721868])"
      ]
     },
     "execution_count": 100,
     "metadata": {},
     "output_type": "execute_result"
    }
   ],
   "source": [
    "rf_tuned.feature_importances_"
   ]
  },
  {
   "cell_type": "code",
   "execution_count": 104,
   "metadata": {},
   "outputs": [
    {
     "name": "stdout",
     "output_type": "stream",
     "text": [
      "Feature ranking:\n",
      "1. feature 0 (salary) (0.629149)\n",
      "2. feature 1 (age) (0.277791)\n",
      "3. feature 5 (credit) (0.047219)\n",
      "4. feature 3 (car) (0.021037)\n",
      "5. feature 4 (zipcode) (0.014943)\n",
      "6. feature 2 (elevel) (0.009861)\n"
     ]
    },
    {
     "data": {
      "image/png": "[encoded data removed]",
      "text/plain": [
       "<Figure size 432x288 with 1 Axes>"
      ]
     },
     "metadata": {
      "needs_background": "light"
     },
     "output_type": "display_data"
    },
    {
     "name": "stdout",
     "output_type": "stream",
     "text": [
      "Index(['salary', 'age', 'elevel', 'car', 'zipcode', 'credit'], dtype='object')\n"
     ]
    }
   ],
   "source": [
    "importances = rf_tuned.feature_importances_\n",
    "std = np.std([tree.feature_importances_ for tree in rf_model.estimators_],\n",
    "             axis=0)\n",
    "indices = np.argsort(importances)[::-1]\n",
    "\n",
    "# Print the feature ranking\n",
    "print(\"Feature ranking:\")\n",
    "\n",
    "for f in range(X_train.shape[1]):\n",
    "    print(\"%d. feature %d (%s) (%f)\" % (f + 1, indices[f], X_train.columns[indices[f]], importances[indices[f]]))\n",
    "\n",
    "# Plot the feature importances of the forest\n",
    "plt.figure()\n",
    "plt.title(\"Feature importances\")\n",
    "plt.bar(range(X_test.shape[1]), importances[indices],\n",
    "       color=\"r\", yerr=std[indices], align=\"center\")\n",
    "plt.xticks(range(X_train.shape[1]), indices)\n",
    "plt.xlim([-1, X_test.shape[1]])\n",
    "plt.show()\n",
    "from pprint import pprint\n",
    "pprint(X_train.columns)"
   ]
  },
  {
   "cell_type": "markdown",
   "metadata": {},
   "source": [
    "# Make Predictions"
   ]
  },
  {
   "cell_type": "code",
   "execution_count": 109,
   "metadata": {},
   "outputs": [],
   "source": [
    "# Load Data. Predict brand preference of these customers\n",
    "incompleteSurvey = pd.read_csv('surveyIncomplete.csv', header =0)"
   ]
  },
  {
   "cell_type": "code",
   "execution_count": 110,
   "metadata": {},
   "outputs": [
    {
     "data": {
      "text/html": [
       "<div>\n",
       "<style scoped>\n",
       "    .dataframe tbody tr th:only-of-type {\n",
       "        vertical-align: middle;\n",
       "    }\n",
       "\n",
       "    .dataframe tbody tr th {\n",
       "        vertical-align: top;\n",
       "    }\n",
       "\n",
       "    .dataframe thead th {\n",
       "        text-align: right;\n",
       "    }\n",
       "</style>\n",
       "<table border=\"1\" class=\"dataframe\">\n",
       "  <thead>\n",
       "    <tr style=\"text-align: right;\">\n",
       "      <th></th>\n",
       "      <th>salary</th>\n",
       "      <th>age</th>\n",
       "      <th>elevel</th>\n",
       "      <th>car</th>\n",
       "      <th>zipcode</th>\n",
       "      <th>credit</th>\n",
       "      <th>brand</th>\n",
       "    </tr>\n",
       "  </thead>\n",
       "  <tbody>\n",
       "    <tr>\n",
       "      <td>count</td>\n",
       "      <td>5000.000000</td>\n",
       "      <td>5000.000000</td>\n",
       "      <td>5000.00000</td>\n",
       "      <td>5000.00000</td>\n",
       "      <td>5000.00000</td>\n",
       "      <td>5000.000000</td>\n",
       "      <td>5000.000000</td>\n",
       "    </tr>\n",
       "    <tr>\n",
       "      <td>mean</td>\n",
       "      <td>85793.810549</td>\n",
       "      <td>49.935800</td>\n",
       "      <td>2.00920</td>\n",
       "      <td>10.60460</td>\n",
       "      <td>4.03760</td>\n",
       "      <td>249546.214730</td>\n",
       "      <td>0.012600</td>\n",
       "    </tr>\n",
       "    <tr>\n",
       "      <td>std</td>\n",
       "      <td>37800.008573</td>\n",
       "      <td>17.665925</td>\n",
       "      <td>1.41206</td>\n",
       "      <td>5.80467</td>\n",
       "      <td>2.56747</td>\n",
       "      <td>145859.260007</td>\n",
       "      <td>0.111551</td>\n",
       "    </tr>\n",
       "    <tr>\n",
       "      <td>min</td>\n",
       "      <td>20000.000000</td>\n",
       "      <td>20.000000</td>\n",
       "      <td>0.00000</td>\n",
       "      <td>1.00000</td>\n",
       "      <td>0.00000</td>\n",
       "      <td>0.000000</td>\n",
       "      <td>0.000000</td>\n",
       "    </tr>\n",
       "    <tr>\n",
       "      <td>25%</td>\n",
       "      <td>52589.960977</td>\n",
       "      <td>35.000000</td>\n",
       "      <td>1.00000</td>\n",
       "      <td>6.00000</td>\n",
       "      <td>2.00000</td>\n",
       "      <td>122310.705600</td>\n",
       "      <td>0.000000</td>\n",
       "    </tr>\n",
       "    <tr>\n",
       "      <td>50%</td>\n",
       "      <td>86220.717695</td>\n",
       "      <td>50.000000</td>\n",
       "      <td>2.00000</td>\n",
       "      <td>11.00000</td>\n",
       "      <td>4.00000</td>\n",
       "      <td>250973.693550</td>\n",
       "      <td>0.000000</td>\n",
       "    </tr>\n",
       "    <tr>\n",
       "      <td>75%</td>\n",
       "      <td>118535.161750</td>\n",
       "      <td>65.000000</td>\n",
       "      <td>3.00000</td>\n",
       "      <td>16.00000</td>\n",
       "      <td>6.00000</td>\n",
       "      <td>375652.704825</td>\n",
       "      <td>0.000000</td>\n",
       "    </tr>\n",
       "    <tr>\n",
       "      <td>max</td>\n",
       "      <td>150000.000000</td>\n",
       "      <td>80.000000</td>\n",
       "      <td>4.00000</td>\n",
       "      <td>20.00000</td>\n",
       "      <td>8.00000</td>\n",
       "      <td>500000.000000</td>\n",
       "      <td>1.000000</td>\n",
       "    </tr>\n",
       "  </tbody>\n",
       "</table>\n",
       "</div>"
      ],
      "text/plain": [
       "              salary          age      elevel         car     zipcode  \\\n",
       "count    5000.000000  5000.000000  5000.00000  5000.00000  5000.00000   \n",
       "mean    85793.810549    49.935800     2.00920    10.60460     4.03760   \n",
       "std     37800.008573    17.665925     1.41206     5.80467     2.56747   \n",
       "min     20000.000000    20.000000     0.00000     1.00000     0.00000   \n",
       "25%     52589.960977    35.000000     1.00000     6.00000     2.00000   \n",
       "50%     86220.717695    50.000000     2.00000    11.00000     4.00000   \n",
       "75%    118535.161750    65.000000     3.00000    16.00000     6.00000   \n",
       "max    150000.000000    80.000000     4.00000    20.00000     8.00000   \n",
       "\n",
       "              credit        brand  \n",
       "count    5000.000000  5000.000000  \n",
       "mean   249546.214730     0.012600  \n",
       "std    145859.260007     0.111551  \n",
       "min         0.000000     0.000000  \n",
       "25%    122310.705600     0.000000  \n",
       "50%    250973.693550     0.000000  \n",
       "75%    375652.704825     0.000000  \n",
       "max    500000.000000     1.000000  "
      ]
     },
     "execution_count": 110,
     "metadata": {},
     "output_type": "execute_result"
    }
   ],
   "source": [
    "incompleteSurvey.describe(include ='all')"
   ]
  },
  {
   "cell_type": "code",
   "execution_count": 111,
   "metadata": {},
   "outputs": [
    {
     "data": {
      "text/plain": [
       "<bound method DataFrame.info of             salary  age  elevel  car  zipcode        credit  brand\n",
       "0     150000.00000   76       1    3        3  377980.10160      1\n",
       "1      82523.83897   51       1    8        3  141657.60660      0\n",
       "2     115646.63620   34       0   10        2  360980.35850      1\n",
       "3     141443.39330   22       3   18        2  282736.31910      1\n",
       "4     149211.27030   56       0    5        3  215667.28960      1\n",
       "...            ...  ...     ...  ...      ...           ...    ...\n",
       "4995   83891.55966   52       2   14        5   28685.22963      0\n",
       "4996  125979.28910   71       0   12        7  276614.82930      0\n",
       "4997   74064.71053   24       2    2        2  202279.57880      0\n",
       "4998  106485.56710   46       3   16        0  381242.08810      0\n",
       "4999   50333.57979   70       1    5        5  224871.17020      0\n",
       "\n",
       "[5000 rows x 7 columns]>"
      ]
     },
     "execution_count": 111,
     "metadata": {},
     "output_type": "execute_result"
    }
   ],
   "source": [
    "incompleteSurvey.info"
   ]
  },
  {
   "cell_type": "code",
   "execution_count": 113,
   "metadata": {},
   "outputs": [],
   "source": [
    "# Convert categorical variables that are inputted as numeric into categorical types\n",
    "# make elevel ordinal\n",
    "cat_dtype = pd.api.types.CategoricalDtype(\n",
    "    categories=[0,1,2,3,4], ordered=True)\n",
    "\n",
    "incompleteSurvey['elevel'] = incompleteSurvey.elevel.astype(cat_dtype)\n",
    "incompleteSurvey['car'] = incompleteSurvey.car.astype('category')\n",
    "incompleteSurvey['zipcode'] = incompleteSurvey.zipcode.astype('category')\n",
    "incompleteSurvey['brand'] = incompleteSurvey.brand.astype('category')"
   ]
  },
  {
   "cell_type": "code",
   "execution_count": 114,
   "metadata": {},
   "outputs": [],
   "source": [
    "X_incomplete = incompleteSurvey.iloc[:,0:6]\n",
    "y_incomplete = incompleteSurvey['brand']"
   ]
  },
  {
   "cell_type": "code",
   "execution_count": 115,
   "metadata": {},
   "outputs": [
    {
     "data": {
      "text/plain": [
       "Index(['salary', 'age', 'elevel', 'car', 'zipcode', 'credit'], dtype='object')"
      ]
     },
     "execution_count": 115,
     "metadata": {},
     "output_type": "execute_result"
    }
   ],
   "source": [
    "X_incomplete.columns"
   ]
  },
  {
   "cell_type": "code",
   "execution_count": 116,
   "metadata": {},
   "outputs": [
    {
     "data": {
      "text/plain": [
       "0    1\n",
       "1    0\n",
       "2    1\n",
       "3    1\n",
       "4    1\n",
       "Name: brand, dtype: category\n",
       "Categories (2, int64): [0, 1]"
      ]
     },
     "execution_count": 116,
     "metadata": {},
     "output_type": "execute_result"
    }
   ],
   "source": [
    "y_incomplete.head()"
   ]
  },
  {
   "cell_type": "code",
   "execution_count": 117,
   "metadata": {},
   "outputs": [],
   "source": [
    "predictions_incomplete = rf_tuned.predict(X_incomplete)"
   ]
  },
  {
   "cell_type": "code",
   "execution_count": 118,
   "metadata": {},
   "outputs": [
    {
     "name": "stdout",
     "output_type": "stream",
     "text": [
      "(5000,)\n"
     ]
    }
   ],
   "source": [
    "print(predictions_incomplete.shape)"
   ]
  },
  {
   "cell_type": "code",
   "execution_count": 119,
   "metadata": {},
   "outputs": [
    {
     "name": "stdout",
     "output_type": "stream",
     "text": [
      "[[   0 1905]\n",
      " [   1 3095]]\n"
     ]
    }
   ],
   "source": [
    "# Summarize brand preferences\n",
    "(unique, counts) = np.unique(predictions_incomplete, return_counts=True)\n",
    "frequencies = np.asarray((unique, counts)).T\n",
    "\n",
    "print(frequencies)"
   ]
  },
  {
   "cell_type": "code",
   "execution_count": 132,
   "metadata": {},
   "outputs": [
    {
     "name": "stdout",
     "output_type": "stream",
     "text": [
      "     brand  predictions\n",
      "0        1            1\n",
      "1        0            0\n",
      "2        1            1\n",
      "3        1            1\n",
      "4        1            1\n",
      "...    ...          ...\n",
      "4995     0            0\n",
      "4996     0            1\n",
      "4997     0            0\n",
      "4998     0            0\n",
      "4999     0            0\n",
      "\n",
      "[5000 rows x 2 columns]\n"
     ]
    }
   ],
   "source": [
    "predictions_incomplete\n",
    "\n",
    "pred_IC_df = pd.DataFrame(predictions_incomplete)\n",
    "pred_IC_df.columns = ['predictions']\n",
    "pred_IC_df.reset_index(drop=True, inplace=True)\n",
    "y_test_df = pd.DataFrame(y_incomplete)\n",
    "y_test_df.reset_index(drop=True, inplace=True)\n",
    "prediction_results = [y_test_df,pred_IC_df]\n",
    "\n",
    "results = pd.concat(prediction_results,sort=False, axis = 1)\n",
    "print (results)\n",
    "\n"
   ]
  },
  {
   "cell_type": "code",
   "execution_count": 133,
   "metadata": {},
   "outputs": [],
   "source": [
    "# Download dataset\n",
    "results.to_csv('predictionResults.csv')"
   ]
  },
  {
   "cell_type": "code",
   "execution_count": null,
   "metadata": {},
   "outputs": [],
   "source": []
  }
 ],
 "metadata": {
  "kernelspec": {
   "display_name": "Python 3",
   "language": "python",
   "name": "python3"
  },
  "language_info": {
   "codemirror_mode": {
    "name": "ipython",
    "version": 3
   },
   "file_extension": ".py",
   "mimetype": "text/x-python",
   "name": "python",
   "nbconvert_exporter": "python",
   "pygments_lexer": "ipython3",
   "version": "3.7.4"
  },
  "toc": {
   "base_numbering": 1,
   "nav_menu": {},
   "number_sections": true,
   "sideBar": true,
   "skip_h1_title": false,
   "title_cell": "Table of Contents",
   "title_sidebar": "Contents",
   "toc_cell": false,
   "toc_position": {
    "height": "calc(100% - 180px)",
    "left": "10px",
    "top": "150px",
    "width": "256px"
   },
   "toc_section_display": true,
   "toc_window_display": true
  }
 },
 "nbformat": 4,
 "nbformat_minor": 2
}
