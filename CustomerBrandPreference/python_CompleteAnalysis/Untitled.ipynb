{
 "cells": [
  {
   "cell_type": "code",
   "execution_count": null,
   "metadata": {},
   "outputs": [],
   "source": [
    "Convert categorical variables that are inputted as numeric into categorical types\n",
    "\n",
    "make elevel ordinal\n",
    "cat_dtype = pd.api.types.CategoricalDtype(\n",
    "    categories=[0,1,2,3,4], ordered=True)\n",
    "\n",
    "survey['elevel'] = survey.elevel.astype(cat_dtype)\n",
    "survey['car'] = survey.car.astype('category')\n",
    "survey['zipcode'] = survey.zipcode.astype('category')\n",
    "survey['brand'] = survey.brand.astype('category')"
   ]
  },
  {
   "cell_type": "code",
   "execution_count": null,
   "metadata": {},
   "outputs": [],
   "source": [
    "Convert categorical variables that are inputted as numeric into categorical types\n",
    "\n",
    "make elevel ordinal\n",
    "cat_dtype = pd.api.types.CategoricalDtype(\n",
    "    categories=[0,1,2,3,4], ordered=True)\n",
    "\n",
    "survey['elevel'] = survey.elevel.astype(cat_dtype)\n",
    "survey['car'] = survey.car.astype('category')\n",
    "survey['zipcode'] = survey.zipcode.astype('category')\n",
    "survey['brand'] = survey.brand.astype('category')"
   ]
  },
  {
   "cell_type": "code",
   "execution_count": null,
   "metadata": {},
   "outputs": [],
   "source": []
  },
  {
   "cell_type": "code",
   "execution_count": null,
   "metadata": {},
   "outputs": [],
   "source": [
    "# Create Train Test Split"
   ]
  },
  {
   "cell_type": "code",
   "execution_count": null,
   "metadata": {},
   "outputs": [],
   "source": [
    "X = survey.iloc[:,0:6]\n",
    "y = survey['brand']"
   ]
  },
  {
   "cell_type": "code",
   "execution_count": null,
   "metadata": {},
   "outputs": [],
   "source": [
    "# verify\n",
    "X.columns"
   ]
  },
  {
   "cell_type": "code",
   "execution_count": null,
   "metadata": {},
   "outputs": [],
   "source": [
    "# verify\n",
    "\n",
    "y.head()"
   ]
  },
  {
   "cell_type": "code",
   "execution_count": null,
   "metadata": {},
   "outputs": [],
   "source": [
    "# create train test split, 70:30\n",
    "X_train, X_test, y_train, y_test = train_test_split(X, y, test_size=0.25, random_state=42)"
   ]
  },
  {
   "cell_type": "code",
   "execution_count": null,
   "metadata": {},
   "outputs": [],
   "source": [
    "# verify split is correct\n",
    "print('The number of observations in the Y training set are:',str(len(y_train.index)))\n",
    "print('The number of observations in the X training set are:',str(len(X_train.index)))\n",
    "print('The number of observations in the X testing set are:',str(len(X_test.index)))\n",
    "print('The number of observations in the y testing set are:',str(len(y_test.index)))\n",
    "len(X_test)/(len(X_test)+len(X_train))\n",
    "len(y_test)/(len(y_test)+len(y_train))"
   ]
  }
 ],
 "metadata": {
  "kernelspec": {
   "display_name": "Python 3",
   "language": "python",
   "name": "python3"
  },
  "language_info": {
   "codemirror_mode": {
    "name": "ipython",
    "version": 3
   },
   "file_extension": ".py",
   "mimetype": "text/x-python",
   "name": "python",
   "nbconvert_exporter": "python",
   "pygments_lexer": "ipython3",
   "version": "3.7.4"
  },
  "toc": {
   "base_numbering": 1,
   "nav_menu": {},
   "number_sections": true,
   "sideBar": true,
   "skip_h1_title": false,
   "title_cell": "Table of Contents",
   "title_sidebar": "Contents",
   "toc_cell": false,
   "toc_position": {},
   "toc_section_display": true,
   "toc_window_display": false
  }
 },
 "nbformat": 4,
 "nbformat_minor": 2
}
