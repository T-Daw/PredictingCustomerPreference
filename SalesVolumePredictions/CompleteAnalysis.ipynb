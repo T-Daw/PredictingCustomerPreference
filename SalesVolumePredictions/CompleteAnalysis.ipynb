{
 "cells": [
  {
   "cell_type": "markdown",
   "metadata": {},
   "source": [
    "# Table of Content Links to not work in GitHub."
   ]
  },
  {
   "cell_type": "code",
   "execution_count": 1,
   "metadata": {},
   "outputs": [],
   "source": [
    "# ensures all output is printed\n",
    "from IPython.core.interactiveshell import InteractiveShell\n",
    "InteractiveShell.ast_node_interactivity = \"all\""
   ]
  },
  {
   "cell_type": "code",
   "execution_count": 2,
   "metadata": {},
   "outputs": [],
   "source": [
    "import pandas as pd\n",
    "import numpy as np\n",
    "import matplotlib.pyplot as plt\n",
    "import seaborn as sns \n",
    "from IPython.display import display, HTML"
   ]
  },
  {
   "cell_type": "code",
   "execution_count": 3,
   "metadata": {},
   "outputs": [],
   "source": [
    "# train,test split\n",
    "from sklearn.model_selection import train_test_split "
   ]
  },
  {
   "cell_type": "code",
   "execution_count": 4,
   "metadata": {},
   "outputs": [],
   "source": [
    "#estimators\n",
    "from sklearn.ensemble import RandomForestRegressor\n",
    "from sklearn import svm\n",
    "from sklearn.ensemble import GradientBoostingRegressor"
   ]
  },
  {
   "cell_type": "code",
   "execution_count": 5,
   "metadata": {},
   "outputs": [],
   "source": [
    "#model metrics\n",
    "from sklearn.metrics import mean_squared_error\n",
    "from sklearn.metrics import r2_score"
   ]
  },
  {
   "cell_type": "markdown",
   "metadata": {},
   "source": [
    "# Load Data"
   ]
  },
  {
   "cell_type": "code",
   "execution_count": 6,
   "metadata": {},
   "outputs": [],
   "source": [
    "# Load Data\n",
    "rawData = pd.read_csv('existingproductattributes2017.csv', header =0)"
   ]
  },
  {
   "cell_type": "code",
   "execution_count": 7,
   "metadata": {},
   "outputs": [
    {
     "data": {
      "text/html": [
       "<div>\n",
       "<style scoped>\n",
       "    .dataframe tbody tr th:only-of-type {\n",
       "        vertical-align: middle;\n",
       "    }\n",
       "\n",
       "    .dataframe tbody tr th {\n",
       "        vertical-align: top;\n",
       "    }\n",
       "\n",
       "    .dataframe thead th {\n",
       "        text-align: right;\n",
       "    }\n",
       "</style>\n",
       "<table border=\"1\" class=\"dataframe\">\n",
       "  <thead>\n",
       "    <tr style=\"text-align: right;\">\n",
       "      <th></th>\n",
       "      <th>ProductType</th>\n",
       "      <th>ProductNum</th>\n",
       "      <th>Price</th>\n",
       "      <th>x5StarReviews</th>\n",
       "      <th>x4StarReviews</th>\n",
       "      <th>x3StarReviews</th>\n",
       "      <th>x2StarReviews</th>\n",
       "      <th>x1StarReviews</th>\n",
       "      <th>PositiveServiceReview</th>\n",
       "      <th>NegativeServiceReview</th>\n",
       "      <th>Recommendproduct</th>\n",
       "      <th>BestSellersRank</th>\n",
       "      <th>ShippingWeight</th>\n",
       "      <th>ProductDepth</th>\n",
       "      <th>ProductWidth</th>\n",
       "      <th>ProductHeight</th>\n",
       "      <th>ProfitMargin</th>\n",
       "      <th>Volume</th>\n",
       "    </tr>\n",
       "  </thead>\n",
       "  <tbody>\n",
       "    <tr>\n",
       "      <td>0</td>\n",
       "      <td>PC</td>\n",
       "      <td>101</td>\n",
       "      <td>949.00</td>\n",
       "      <td>3</td>\n",
       "      <td>3</td>\n",
       "      <td>2</td>\n",
       "      <td>0</td>\n",
       "      <td>0</td>\n",
       "      <td>2</td>\n",
       "      <td>0</td>\n",
       "      <td>0.9</td>\n",
       "      <td>1967.0</td>\n",
       "      <td>25.8</td>\n",
       "      <td>23.94</td>\n",
       "      <td>6.62</td>\n",
       "      <td>16.89</td>\n",
       "      <td>0.15</td>\n",
       "      <td>12</td>\n",
       "    </tr>\n",
       "    <tr>\n",
       "      <td>1</td>\n",
       "      <td>PC</td>\n",
       "      <td>102</td>\n",
       "      <td>2249.99</td>\n",
       "      <td>2</td>\n",
       "      <td>1</td>\n",
       "      <td>0</td>\n",
       "      <td>0</td>\n",
       "      <td>0</td>\n",
       "      <td>1</td>\n",
       "      <td>0</td>\n",
       "      <td>0.9</td>\n",
       "      <td>4806.0</td>\n",
       "      <td>50.0</td>\n",
       "      <td>35.00</td>\n",
       "      <td>31.75</td>\n",
       "      <td>19.00</td>\n",
       "      <td>0.25</td>\n",
       "      <td>8</td>\n",
       "    </tr>\n",
       "    <tr>\n",
       "      <td>2</td>\n",
       "      <td>PC</td>\n",
       "      <td>103</td>\n",
       "      <td>399.00</td>\n",
       "      <td>3</td>\n",
       "      <td>0</td>\n",
       "      <td>0</td>\n",
       "      <td>0</td>\n",
       "      <td>0</td>\n",
       "      <td>1</td>\n",
       "      <td>0</td>\n",
       "      <td>0.9</td>\n",
       "      <td>12076.0</td>\n",
       "      <td>17.4</td>\n",
       "      <td>10.50</td>\n",
       "      <td>8.30</td>\n",
       "      <td>10.20</td>\n",
       "      <td>0.08</td>\n",
       "      <td>12</td>\n",
       "    </tr>\n",
       "    <tr>\n",
       "      <td>3</td>\n",
       "      <td>Laptop</td>\n",
       "      <td>104</td>\n",
       "      <td>409.99</td>\n",
       "      <td>49</td>\n",
       "      <td>19</td>\n",
       "      <td>8</td>\n",
       "      <td>3</td>\n",
       "      <td>9</td>\n",
       "      <td>7</td>\n",
       "      <td>8</td>\n",
       "      <td>0.8</td>\n",
       "      <td>109.0</td>\n",
       "      <td>5.7</td>\n",
       "      <td>15.00</td>\n",
       "      <td>9.90</td>\n",
       "      <td>1.30</td>\n",
       "      <td>0.08</td>\n",
       "      <td>196</td>\n",
       "    </tr>\n",
       "    <tr>\n",
       "      <td>4</td>\n",
       "      <td>Laptop</td>\n",
       "      <td>105</td>\n",
       "      <td>1079.99</td>\n",
       "      <td>58</td>\n",
       "      <td>31</td>\n",
       "      <td>11</td>\n",
       "      <td>7</td>\n",
       "      <td>36</td>\n",
       "      <td>7</td>\n",
       "      <td>20</td>\n",
       "      <td>0.7</td>\n",
       "      <td>268.0</td>\n",
       "      <td>7.0</td>\n",
       "      <td>12.90</td>\n",
       "      <td>0.30</td>\n",
       "      <td>8.90</td>\n",
       "      <td>0.09</td>\n",
       "      <td>232</td>\n",
       "    </tr>\n",
       "  </tbody>\n",
       "</table>\n",
       "</div>"
      ],
      "text/plain": [
       "  ProductType  ProductNum    Price  x5StarReviews  x4StarReviews  \\\n",
       "0          PC         101   949.00              3              3   \n",
       "1          PC         102  2249.99              2              1   \n",
       "2          PC         103   399.00              3              0   \n",
       "3      Laptop         104   409.99             49             19   \n",
       "4      Laptop         105  1079.99             58             31   \n",
       "\n",
       "   x3StarReviews  x2StarReviews  x1StarReviews  PositiveServiceReview  \\\n",
       "0              2              0              0                      2   \n",
       "1              0              0              0                      1   \n",
       "2              0              0              0                      1   \n",
       "3              8              3              9                      7   \n",
       "4             11              7             36                      7   \n",
       "\n",
       "   NegativeServiceReview  Recommendproduct  BestSellersRank  ShippingWeight  \\\n",
       "0                      0               0.9           1967.0            25.8   \n",
       "1                      0               0.9           4806.0            50.0   \n",
       "2                      0               0.9          12076.0            17.4   \n",
       "3                      8               0.8            109.0             5.7   \n",
       "4                     20               0.7            268.0             7.0   \n",
       "\n",
       "   ProductDepth  ProductWidth  ProductHeight  ProfitMargin  Volume  \n",
       "0         23.94          6.62          16.89          0.15      12  \n",
       "1         35.00         31.75          19.00          0.25       8  \n",
       "2         10.50          8.30          10.20          0.08      12  \n",
       "3         15.00          9.90           1.30          0.08     196  \n",
       "4         12.90          0.30           8.90          0.09     232  "
      ]
     },
     "execution_count": 7,
     "metadata": {},
     "output_type": "execute_result"
    }
   ],
   "source": [
    "rawData.head()"
   ]
  },
  {
   "cell_type": "code",
   "execution_count": 8,
   "metadata": {},
   "outputs": [
    {
     "data": {
      "text/html": [
       "<div>\n",
       "<style scoped>\n",
       "    .dataframe tbody tr th:only-of-type {\n",
       "        vertical-align: middle;\n",
       "    }\n",
       "\n",
       "    .dataframe tbody tr th {\n",
       "        vertical-align: top;\n",
       "    }\n",
       "\n",
       "    .dataframe thead th {\n",
       "        text-align: right;\n",
       "    }\n",
       "</style>\n",
       "<table border=\"1\" class=\"dataframe\">\n",
       "  <thead>\n",
       "    <tr style=\"text-align: right;\">\n",
       "      <th></th>\n",
       "      <th>ProductType</th>\n",
       "      <th>ProductNum</th>\n",
       "      <th>Price</th>\n",
       "      <th>x5StarReviews</th>\n",
       "      <th>x4StarReviews</th>\n",
       "      <th>x3StarReviews</th>\n",
       "      <th>x2StarReviews</th>\n",
       "      <th>x1StarReviews</th>\n",
       "      <th>PositiveServiceReview</th>\n",
       "      <th>NegativeServiceReview</th>\n",
       "      <th>Recommendproduct</th>\n",
       "      <th>BestSellersRank</th>\n",
       "      <th>ShippingWeight</th>\n",
       "      <th>ProductDepth</th>\n",
       "      <th>ProductWidth</th>\n",
       "      <th>ProductHeight</th>\n",
       "      <th>ProfitMargin</th>\n",
       "      <th>Volume</th>\n",
       "    </tr>\n",
       "  </thead>\n",
       "  <tbody>\n",
       "    <tr>\n",
       "      <td>count</td>\n",
       "      <td>80</td>\n",
       "      <td>80.000000</td>\n",
       "      <td>80.000000</td>\n",
       "      <td>80.000000</td>\n",
       "      <td>80.000000</td>\n",
       "      <td>80.000000</td>\n",
       "      <td>80.000000</td>\n",
       "      <td>80.000000</td>\n",
       "      <td>80.000000</td>\n",
       "      <td>80.000000</td>\n",
       "      <td>80.000000</td>\n",
       "      <td>65.000000</td>\n",
       "      <td>80.000000</td>\n",
       "      <td>80.000000</td>\n",
       "      <td>80.000000</td>\n",
       "      <td>80.000000</td>\n",
       "      <td>80.00000</td>\n",
       "      <td>80.000000</td>\n",
       "    </tr>\n",
       "    <tr>\n",
       "      <td>unique</td>\n",
       "      <td>12</td>\n",
       "      <td>NaN</td>\n",
       "      <td>NaN</td>\n",
       "      <td>NaN</td>\n",
       "      <td>NaN</td>\n",
       "      <td>NaN</td>\n",
       "      <td>NaN</td>\n",
       "      <td>NaN</td>\n",
       "      <td>NaN</td>\n",
       "      <td>NaN</td>\n",
       "      <td>NaN</td>\n",
       "      <td>NaN</td>\n",
       "      <td>NaN</td>\n",
       "      <td>NaN</td>\n",
       "      <td>NaN</td>\n",
       "      <td>NaN</td>\n",
       "      <td>NaN</td>\n",
       "      <td>NaN</td>\n",
       "    </tr>\n",
       "    <tr>\n",
       "      <td>top</td>\n",
       "      <td>Accessories</td>\n",
       "      <td>NaN</td>\n",
       "      <td>NaN</td>\n",
       "      <td>NaN</td>\n",
       "      <td>NaN</td>\n",
       "      <td>NaN</td>\n",
       "      <td>NaN</td>\n",
       "      <td>NaN</td>\n",
       "      <td>NaN</td>\n",
       "      <td>NaN</td>\n",
       "      <td>NaN</td>\n",
       "      <td>NaN</td>\n",
       "      <td>NaN</td>\n",
       "      <td>NaN</td>\n",
       "      <td>NaN</td>\n",
       "      <td>NaN</td>\n",
       "      <td>NaN</td>\n",
       "      <td>NaN</td>\n",
       "    </tr>\n",
       "    <tr>\n",
       "      <td>freq</td>\n",
       "      <td>26</td>\n",
       "      <td>NaN</td>\n",
       "      <td>NaN</td>\n",
       "      <td>NaN</td>\n",
       "      <td>NaN</td>\n",
       "      <td>NaN</td>\n",
       "      <td>NaN</td>\n",
       "      <td>NaN</td>\n",
       "      <td>NaN</td>\n",
       "      <td>NaN</td>\n",
       "      <td>NaN</td>\n",
       "      <td>NaN</td>\n",
       "      <td>NaN</td>\n",
       "      <td>NaN</td>\n",
       "      <td>NaN</td>\n",
       "      <td>NaN</td>\n",
       "      <td>NaN</td>\n",
       "      <td>NaN</td>\n",
       "    </tr>\n",
       "    <tr>\n",
       "      <td>mean</td>\n",
       "      <td>NaN</td>\n",
       "      <td>142.550000</td>\n",
       "      <td>247.251125</td>\n",
       "      <td>176.250000</td>\n",
       "      <td>40.200000</td>\n",
       "      <td>14.787500</td>\n",
       "      <td>13.787500</td>\n",
       "      <td>37.675000</td>\n",
       "      <td>51.750000</td>\n",
       "      <td>6.225000</td>\n",
       "      <td>0.745000</td>\n",
       "      <td>1126.307692</td>\n",
       "      <td>9.668125</td>\n",
       "      <td>14.425250</td>\n",
       "      <td>7.819000</td>\n",
       "      <td>6.258625</td>\n",
       "      <td>0.15450</td>\n",
       "      <td>705.000000</td>\n",
       "    </tr>\n",
       "    <tr>\n",
       "      <td>std</td>\n",
       "      <td>NaN</td>\n",
       "      <td>26.732572</td>\n",
       "      <td>339.574925</td>\n",
       "      <td>379.193698</td>\n",
       "      <td>70.741891</td>\n",
       "      <td>30.963717</td>\n",
       "      <td>45.924455</td>\n",
       "      <td>186.718483</td>\n",
       "      <td>104.471606</td>\n",
       "      <td>14.304974</td>\n",
       "      <td>0.197388</td>\n",
       "      <td>3261.130095</td>\n",
       "      <td>15.207573</td>\n",
       "      <td>34.930846</td>\n",
       "      <td>6.814665</td>\n",
       "      <td>6.888852</td>\n",
       "      <td>0.11639</td>\n",
       "      <td>1516.774793</td>\n",
       "    </tr>\n",
       "    <tr>\n",
       "      <td>min</td>\n",
       "      <td>NaN</td>\n",
       "      <td>101.000000</td>\n",
       "      <td>3.600000</td>\n",
       "      <td>0.000000</td>\n",
       "      <td>0.000000</td>\n",
       "      <td>0.000000</td>\n",
       "      <td>0.000000</td>\n",
       "      <td>0.000000</td>\n",
       "      <td>0.000000</td>\n",
       "      <td>0.000000</td>\n",
       "      <td>0.100000</td>\n",
       "      <td>1.000000</td>\n",
       "      <td>0.010000</td>\n",
       "      <td>0.000000</td>\n",
       "      <td>0.000000</td>\n",
       "      <td>0.000000</td>\n",
       "      <td>0.05000</td>\n",
       "      <td>0.000000</td>\n",
       "    </tr>\n",
       "    <tr>\n",
       "      <td>25%</td>\n",
       "      <td>NaN</td>\n",
       "      <td>120.750000</td>\n",
       "      <td>52.665000</td>\n",
       "      <td>10.000000</td>\n",
       "      <td>2.750000</td>\n",
       "      <td>2.000000</td>\n",
       "      <td>1.000000</td>\n",
       "      <td>2.000000</td>\n",
       "      <td>2.000000</td>\n",
       "      <td>1.000000</td>\n",
       "      <td>0.700000</td>\n",
       "      <td>7.000000</td>\n",
       "      <td>0.512500</td>\n",
       "      <td>4.775000</td>\n",
       "      <td>1.750000</td>\n",
       "      <td>0.400000</td>\n",
       "      <td>0.05000</td>\n",
       "      <td>40.000000</td>\n",
       "    </tr>\n",
       "    <tr>\n",
       "      <td>50%</td>\n",
       "      <td>NaN</td>\n",
       "      <td>140.500000</td>\n",
       "      <td>132.720000</td>\n",
       "      <td>50.000000</td>\n",
       "      <td>22.000000</td>\n",
       "      <td>7.000000</td>\n",
       "      <td>3.000000</td>\n",
       "      <td>8.500000</td>\n",
       "      <td>5.500000</td>\n",
       "      <td>3.000000</td>\n",
       "      <td>0.800000</td>\n",
       "      <td>27.000000</td>\n",
       "      <td>2.100000</td>\n",
       "      <td>7.950000</td>\n",
       "      <td>6.800000</td>\n",
       "      <td>3.950000</td>\n",
       "      <td>0.12000</td>\n",
       "      <td>200.000000</td>\n",
       "    </tr>\n",
       "    <tr>\n",
       "      <td>75%</td>\n",
       "      <td>NaN</td>\n",
       "      <td>160.250000</td>\n",
       "      <td>352.490000</td>\n",
       "      <td>306.500000</td>\n",
       "      <td>33.000000</td>\n",
       "      <td>11.250000</td>\n",
       "      <td>7.000000</td>\n",
       "      <td>15.250000</td>\n",
       "      <td>42.000000</td>\n",
       "      <td>6.250000</td>\n",
       "      <td>0.900000</td>\n",
       "      <td>281.000000</td>\n",
       "      <td>11.205000</td>\n",
       "      <td>15.025000</td>\n",
       "      <td>11.275000</td>\n",
       "      <td>10.300000</td>\n",
       "      <td>0.20000</td>\n",
       "      <td>1226.000000</td>\n",
       "    </tr>\n",
       "    <tr>\n",
       "      <td>max</td>\n",
       "      <td>NaN</td>\n",
       "      <td>200.000000</td>\n",
       "      <td>2249.990000</td>\n",
       "      <td>2801.000000</td>\n",
       "      <td>431.000000</td>\n",
       "      <td>162.000000</td>\n",
       "      <td>370.000000</td>\n",
       "      <td>1654.000000</td>\n",
       "      <td>536.000000</td>\n",
       "      <td>112.000000</td>\n",
       "      <td>1.000000</td>\n",
       "      <td>17502.000000</td>\n",
       "      <td>63.000000</td>\n",
       "      <td>300.000000</td>\n",
       "      <td>31.750000</td>\n",
       "      <td>25.800000</td>\n",
       "      <td>0.40000</td>\n",
       "      <td>11204.000000</td>\n",
       "    </tr>\n",
       "  </tbody>\n",
       "</table>\n",
       "</div>"
      ],
      "text/plain": [
       "        ProductType  ProductNum        Price  x5StarReviews  x4StarReviews  \\\n",
       "count            80   80.000000    80.000000      80.000000      80.000000   \n",
       "unique           12         NaN          NaN            NaN            NaN   \n",
       "top     Accessories         NaN          NaN            NaN            NaN   \n",
       "freq             26         NaN          NaN            NaN            NaN   \n",
       "mean            NaN  142.550000   247.251125     176.250000      40.200000   \n",
       "std             NaN   26.732572   339.574925     379.193698      70.741891   \n",
       "min             NaN  101.000000     3.600000       0.000000       0.000000   \n",
       "25%             NaN  120.750000    52.665000      10.000000       2.750000   \n",
       "50%             NaN  140.500000   132.720000      50.000000      22.000000   \n",
       "75%             NaN  160.250000   352.490000     306.500000      33.000000   \n",
       "max             NaN  200.000000  2249.990000    2801.000000     431.000000   \n",
       "\n",
       "        x3StarReviews  x2StarReviews  x1StarReviews  PositiveServiceReview  \\\n",
       "count       80.000000      80.000000      80.000000              80.000000   \n",
       "unique            NaN            NaN            NaN                    NaN   \n",
       "top               NaN            NaN            NaN                    NaN   \n",
       "freq              NaN            NaN            NaN                    NaN   \n",
       "mean        14.787500      13.787500      37.675000              51.750000   \n",
       "std         30.963717      45.924455     186.718483             104.471606   \n",
       "min          0.000000       0.000000       0.000000               0.000000   \n",
       "25%          2.000000       1.000000       2.000000               2.000000   \n",
       "50%          7.000000       3.000000       8.500000               5.500000   \n",
       "75%         11.250000       7.000000      15.250000              42.000000   \n",
       "max        162.000000     370.000000    1654.000000             536.000000   \n",
       "\n",
       "        NegativeServiceReview  Recommendproduct  BestSellersRank  \\\n",
       "count               80.000000         80.000000        65.000000   \n",
       "unique                    NaN               NaN              NaN   \n",
       "top                       NaN               NaN              NaN   \n",
       "freq                      NaN               NaN              NaN   \n",
       "mean                 6.225000          0.745000      1126.307692   \n",
       "std                 14.304974          0.197388      3261.130095   \n",
       "min                  0.000000          0.100000         1.000000   \n",
       "25%                  1.000000          0.700000         7.000000   \n",
       "50%                  3.000000          0.800000        27.000000   \n",
       "75%                  6.250000          0.900000       281.000000   \n",
       "max                112.000000          1.000000     17502.000000   \n",
       "\n",
       "        ShippingWeight  ProductDepth  ProductWidth  ProductHeight  \\\n",
       "count        80.000000     80.000000     80.000000      80.000000   \n",
       "unique             NaN           NaN           NaN            NaN   \n",
       "top                NaN           NaN           NaN            NaN   \n",
       "freq               NaN           NaN           NaN            NaN   \n",
       "mean          9.668125     14.425250      7.819000       6.258625   \n",
       "std          15.207573     34.930846      6.814665       6.888852   \n",
       "min           0.010000      0.000000      0.000000       0.000000   \n",
       "25%           0.512500      4.775000      1.750000       0.400000   \n",
       "50%           2.100000      7.950000      6.800000       3.950000   \n",
       "75%          11.205000     15.025000     11.275000      10.300000   \n",
       "max          63.000000    300.000000     31.750000      25.800000   \n",
       "\n",
       "        ProfitMargin        Volume  \n",
       "count       80.00000     80.000000  \n",
       "unique           NaN           NaN  \n",
       "top              NaN           NaN  \n",
       "freq             NaN           NaN  \n",
       "mean         0.15450    705.000000  \n",
       "std          0.11639   1516.774793  \n",
       "min          0.05000      0.000000  \n",
       "25%          0.05000     40.000000  \n",
       "50%          0.12000    200.000000  \n",
       "75%          0.20000   1226.000000  \n",
       "max          0.40000  11204.000000  "
      ]
     },
     "execution_count": 8,
     "metadata": {},
     "output_type": "execute_result"
    }
   ],
   "source": [
    "rawData.describe(include ='all')"
   ]
  },
  {
   "cell_type": "code",
   "execution_count": 9,
   "metadata": {},
   "outputs": [
    {
     "data": {
      "text/plain": [
       "<bound method DataFrame.info of     ProductType  ProductNum    Price  x5StarReviews  x4StarReviews  \\\n",
       "0            PC         101   949.00              3              3   \n",
       "1            PC         102  2249.99              2              1   \n",
       "2            PC         103   399.00              3              0   \n",
       "3        Laptop         104   409.99             49             19   \n",
       "4        Laptop         105  1079.99             58             31   \n",
       "..          ...         ...      ...            ...            ...   \n",
       "75   Smartphone         191   200.00             62             25   \n",
       "76   Smartphone         192    99.00             18             17   \n",
       "77      Netbook         182   349.99             22             10   \n",
       "78   Smartphone         197   499.00            368             28   \n",
       "79  GameConsole         200   299.99            421             87   \n",
       "\n",
       "    x3StarReviews  x2StarReviews  x1StarReviews  PositiveServiceReview  \\\n",
       "0               2              0              0                      2   \n",
       "1               0              0              0                      1   \n",
       "2               0              0              0                      1   \n",
       "3               8              3              9                      7   \n",
       "4              11              7             36                      7   \n",
       "..            ...            ...            ...                    ...   \n",
       "75             10             11             12                      9   \n",
       "76              6              2             12                      5   \n",
       "77              6              2             10                      3   \n",
       "78             14             10             23                     22   \n",
       "79             20             14             39                     29   \n",
       "\n",
       "    NegativeServiceReview  Recommendproduct  BestSellersRank  ShippingWeight  \\\n",
       "0                       0               0.9           1967.0           25.80   \n",
       "1                       0               0.9           4806.0           50.00   \n",
       "2                       0               0.9          12076.0           17.40   \n",
       "3                       8               0.8            109.0            5.70   \n",
       "4                      20               0.7            268.0            7.00   \n",
       "..                    ...               ...              ...             ...   \n",
       "75                      3               0.8            720.0            0.90   \n",
       "76                      4               0.7           5742.0            0.70   \n",
       "77                      3               0.3           2723.0            5.00   \n",
       "78                      3               0.9          14086.0            0.90   \n",
       "79                     14               0.9            352.0           10.94   \n",
       "\n",
       "    ProductDepth  ProductWidth  ProductHeight  ProfitMargin  Volume  \n",
       "0          23.94          6.62          16.89          0.15      12  \n",
       "1          35.00         31.75          19.00          0.25       8  \n",
       "2          10.50          8.30          10.20          0.08      12  \n",
       "3          15.00          9.90           1.30          0.08     196  \n",
       "4          12.90          0.30           8.90          0.09     232  \n",
       "..           ...           ...            ...           ...     ...  \n",
       "75          2.80          5.40           0.30          0.14     248  \n",
       "76          2.80          5.30           0.40          0.17      72  \n",
       "77          7.57         10.47           1.43          0.12      88  \n",
       "78          2.70          5.00           0.40          0.10    1472  \n",
       "79         12.00         11.50           7.25          0.12    1684  \n",
       "\n",
       "[80 rows x 18 columns]>"
      ]
     },
     "execution_count": 9,
     "metadata": {},
     "output_type": "execute_result"
    }
   ],
   "source": [
    "rawData.info"
   ]
  },
  {
   "cell_type": "code",
   "execution_count": 10,
   "metadata": {},
   "outputs": [
    {
     "name": "stdout",
     "output_type": "stream",
     "text": [
      "ProductType               0\n",
      "ProductNum                0\n",
      "Price                     0\n",
      "x5StarReviews             0\n",
      "x4StarReviews             0\n",
      "x3StarReviews             0\n",
      "x2StarReviews             0\n",
      "x1StarReviews             0\n",
      "PositiveServiceReview     0\n",
      "NegativeServiceReview     0\n",
      "Recommendproduct          0\n",
      "BestSellersRank          15\n",
      "ShippingWeight            0\n",
      "ProductDepth              0\n",
      "ProductWidth              0\n",
      "ProductHeight             0\n",
      "ProfitMargin              0\n",
      "Volume                    0\n",
      "dtype: int64\n"
     ]
    }
   ],
   "source": [
    "# Nulls, NaNs\n",
    "print(rawData.isnull().sum())"
   ]
  },
  {
   "cell_type": "markdown",
   "metadata": {},
   "source": [
    "# My functions"
   ]
  },
  {
   "cell_type": "code",
   "execution_count": 11,
   "metadata": {},
   "outputs": [],
   "source": [
    "# function to create a pandas dataframe, with prediction results and actual results\n",
    "\n",
    "# modelInitial_string is the initial of the model. Ex: 'rf' is for random forest\n",
    "# predictions is the predictions object from the model. Ex: predictions_rf is created when we run the .predict() on the random forest model\n",
    "# y_test is the default rows (test data), created during train test split step\n",
    "\n",
    "def predDF(modelInitial_string, predictions, y_test ) :\n",
    "    predColumnName = 'predictions'# + modelInitial_string\n",
    "    redColNam = 'results' #+ modelInitial_string\n",
    "    predictions_df = pd.DataFrame(predictions)\n",
    "    predictions_df.columns = [predColumnName]\n",
    "    predictions_df.reset_index(drop=True, inplace=True)\n",
    "    ytest_df = pd.DataFrame(y_test)\n",
    "    ytest_df.columns = ['groundTruth']\n",
    "    ytest_df.reset_index(drop=True, inplace=True)\n",
    "    res = [ytest_df,predictions_df]\n",
    "    redColNam = pd.concat(res,sort=False, axis = 1)\n",
    "    print (redColNam.columns)\n",
    "    return redColNam"
   ]
  },
  {
   "cell_type": "code",
   "execution_count": 12,
   "metadata": {},
   "outputs": [],
   "source": [
    "# function for my metrics\n",
    "\n",
    "#modelName : name of algorithm as a string, can be initial or full name\n",
    "#y_test : test set of target variable\n",
    "# modelPredictions : model predictions, output of .predict()\n",
    "\n",
    "def myMetrics(modelName_str, y_test, modelPredictions) :\n",
    "    rsquared = r2_score(y_test, modelPredictions)\n",
    "    rmse = mean_squared_error(y_test, modelPredictions, squared=False)\n",
    "    mse = mean_squared_error(y_test, modelPredictions, squared=True)\n",
    "    \n",
    "    print(f\"R-Squared for {modelName} model: {rsquared:.5f} \")\n",
    "    print(f\"RMSE for {modelName} model: {rmse:.5f} \")\n",
    "    print(f\"MSE for {modelName} model: {mse:.5f} \")\n",
    "    "
   ]
  },
  {
   "cell_type": "markdown",
   "metadata": {},
   "source": [
    "# Plot Variables"
   ]
  },
  {
   "cell_type": "code",
   "execution_count": 13,
   "metadata": {},
   "outputs": [],
   "source": [
    "# only prints last output\n",
    "InteractiveShell.ast_node_interactivity = \"last_expr\""
   ]
  },
  {
   "cell_type": "markdown",
   "metadata": {},
   "source": [
    "## Continuous"
   ]
  },
  {
   "cell_type": "markdown",
   "metadata": {},
   "source": [
    "### Price"
   ]
  },
  {
   "cell_type": "code",
   "execution_count": 14,
   "metadata": {
    "scrolled": true
   },
   "outputs": [
    {
     "data": {
      "image/png": "[encoded data removed]",
      "text/plain": [
       "<Figure size 432x288 with 1 Axes>"
      ]
     },
     "metadata": {
      "needs_background": "light"
     },
     "output_type": "display_data"
    }
   ],
   "source": [
    "# Histogram of Price\n",
    "plt.hist(rawData['Price'], bins=12)\n",
    "plt.show()"
   ]
  },
  {
   "cell_type": "code",
   "execution_count": 15,
   "metadata": {
    "scrolled": true
   },
   "outputs": [
    {
     "data": {
      "image/png": "[encoded data removed]",
      "text/plain": [
       "<Figure size 432x288 with 1 Axes>"
      ]
     },
     "metadata": {
      "needs_background": "light"
     },
     "output_type": "display_data"
    }
   ],
   "source": [
    "# Histogram of Price\n",
    "plt.hist(rawData['Price'], bins=30)\n",
    "plt.show()"
   ]
  },
  {
   "cell_type": "markdown",
   "metadata": {},
   "source": [
    "### 1-5 Star Reviews"
   ]
  },
  {
   "cell_type": "code",
   "execution_count": 16,
   "metadata": {
    "scrolled": false
   },
   "outputs": [
    {
     "data": {
      "image/png": "[encoded data removed]",
      "text/plain": [
       "<Figure size 432x288 with 1 Axes>"
      ]
     },
     "metadata": {
      "needs_background": "light"
     },
     "output_type": "display_data"
    }
   ],
   "source": [
    "# Histogram of Price\n",
    "plt.hist(rawData['x1StarReviews'], bins=50)\n",
    "plt.show()"
   ]
  },
  {
   "cell_type": "code",
   "execution_count": 17,
   "metadata": {
    "scrolled": true
   },
   "outputs": [
    {
     "data": {
      "image/png": "[encoded data removed]",
      "text/plain": [
       "<Figure size 432x288 with 1 Axes>"
      ]
     },
     "metadata": {
      "needs_background": "light"
     },
     "output_type": "display_data"
    }
   ],
   "source": [
    "# Histogram of Price\n",
    "plt.hist(rawData['x2StarReviews'], bins=50)\n",
    "plt.show()"
   ]
  },
  {
   "cell_type": "code",
   "execution_count": 18,
   "metadata": {
    "scrolled": true
   },
   "outputs": [
    {
     "data": {
      "image/png": "[encoded data removed]",
      "text/plain": [
       "<Figure size 432x288 with 1 Axes>"
      ]
     },
     "metadata": {
      "needs_background": "light"
     },
     "output_type": "display_data"
    }
   ],
   "source": [
    "# Histogram of 3-Star Reviews\n",
    "plt.hist(rawData['x3StarReviews'], bins=50)\n",
    "plt.show()"
   ]
  },
  {
   "cell_type": "code",
   "execution_count": 19,
   "metadata": {
    "scrolled": true
   },
   "outputs": [
    {
     "data": {
      "image/png": "[encoded data removed]",
      "text/plain": [
       "<Figure size 432x288 with 1 Axes>"
      ]
     },
     "metadata": {
      "needs_background": "light"
     },
     "output_type": "display_data"
    }
   ],
   "source": [
    "# Histogram of 4-Star Reviews\n",
    "plt.hist(rawData['x4StarReviews'], bins=50)\n",
    "plt.show()"
   ]
  },
  {
   "cell_type": "code",
   "execution_count": 20,
   "metadata": {
    "scrolled": true
   },
   "outputs": [
    {
     "data": {
      "image/png": "[encoded data removed]",
      "text/plain": [
       "<Figure size 432x288 with 1 Axes>"
      ]
     },
     "metadata": {
      "needs_background": "light"
     },
     "output_type": "display_data"
    }
   ],
   "source": [
    "# Histogram of 5-Star Reviews\n",
    "plt.hist(rawData['x5StarReviews'], bins=50)\n",
    "plt.show()"
   ]
  },
  {
   "cell_type": "markdown",
   "metadata": {},
   "source": [
    "### Positive Service Review"
   ]
  },
  {
   "cell_type": "code",
   "execution_count": 21,
   "metadata": {
    "scrolled": false
   },
   "outputs": [
    {
     "data": {
      "image/png": "[encoded data removed]",
      "text/plain": [
       "<Figure size 432x288 with 1 Axes>"
      ]
     },
     "metadata": {
      "needs_background": "light"
     },
     "output_type": "display_data"
    }
   ],
   "source": [
    "# Histogram of PositiveServiceReview\n",
    "plt.hist(rawData['PositiveServiceReview'], bins=12)\n",
    "plt.show()"
   ]
  },
  {
   "cell_type": "code",
   "execution_count": 22,
   "metadata": {
    "scrolled": true
   },
   "outputs": [
    {
     "data": {
      "image/png": "[encoded data removed]",
      "text/plain": [
       "<Figure size 432x288 with 1 Axes>"
      ]
     },
     "metadata": {
      "needs_background": "light"
     },
     "output_type": "display_data"
    }
   ],
   "source": [
    "# Histogram of PositiveServiceReview\n",
    "plt.hist(rawData['PositiveServiceReview'], bins=30)\n",
    "plt.show()"
   ]
  },
  {
   "cell_type": "markdown",
   "metadata": {},
   "source": [
    "### Negative Service Review"
   ]
  },
  {
   "cell_type": "code",
   "execution_count": 23,
   "metadata": {
    "scrolled": true
   },
   "outputs": [
    {
     "data": {
      "image/png": "[encoded data removed]",
      "text/plain": [
       "<Figure size 432x288 with 1 Axes>"
      ]
     },
     "metadata": {
      "needs_background": "light"
     },
     "output_type": "display_data"
    }
   ],
   "source": [
    "# Histogram of Price\n",
    "plt.hist(rawData['NegativeServiceReview'], bins=50)\n",
    "plt.show()"
   ]
  },
  {
   "cell_type": "markdown",
   "metadata": {},
   "source": [
    "### Recommend Product\n"
   ]
  },
  {
   "cell_type": "code",
   "execution_count": 24,
   "metadata": {},
   "outputs": [
    {
     "data": {
      "text/plain": [
       "0.9    30\n",
       "0.8    21\n",
       "0.7    11\n",
       "0.3     5\n",
       "0.5     5\n",
       "0.6     4\n",
       "0.2     1\n",
       "0.4     1\n",
       "0.1     1\n",
       "1.0     1\n",
       "Name: Recommendproduct, dtype: int64"
      ]
     },
     "execution_count": 24,
     "metadata": {},
     "output_type": "execute_result"
    }
   ],
   "source": [
    "rawData.Recommendproduct.value_counts()"
   ]
  },
  {
   "cell_type": "code",
   "execution_count": 25,
   "metadata": {
    "scrolled": true
   },
   "outputs": [
    {
     "data": {
      "image/png": "[encoded data removed]",
      "text/plain": [
       "<Figure size 432x288 with 1 Axes>"
      ]
     },
     "metadata": {
      "needs_background": "light"
     },
     "output_type": "display_data"
    }
   ],
   "source": [
    "# Histogram of Recommendproduct\n",
    "plt.hist(rawData['Recommendproduct'], bins=20)\n",
    "plt.show()"
   ]
  },
  {
   "cell_type": "markdown",
   "metadata": {},
   "source": [
    "### BestSellersRank"
   ]
  },
  {
   "cell_type": "code",
   "execution_count": 26,
   "metadata": {},
   "outputs": [
    {
     "data": {
      "text/plain": [
       "7.0        8\n",
       "11.0       3\n",
       "1.0        3\n",
       "3.0        2\n",
       "17.0       2\n",
       "27.0       2\n",
       "2.0        2\n",
       "6.0        2\n",
       "22.0       2\n",
       "281.0      1\n",
       "16.0       1\n",
       "5.0        1\n",
       "29.0       1\n",
       "60.0       1\n",
       "110.0      1\n",
       "150.0      1\n",
       "398.0      1\n",
       "661.0      1\n",
       "927.0      1\n",
       "18.0       1\n",
       "64.0       1\n",
       "268.0      1\n",
       "109.0      1\n",
       "9.0        1\n",
       "6295.0     1\n",
       "5742.0     1\n",
       "4.0        1\n",
       "4806.0     1\n",
       "2723.0     1\n",
       "12076.0    1\n",
       "1473.0     1\n",
       "17502.0    1\n",
       "14086.0    1\n",
       "352.0      1\n",
       "720.0      1\n",
       "544.0      1\n",
       "215.0      1\n",
       "30.0       1\n",
       "829.0      1\n",
       "134.0      1\n",
       "69.0       1\n",
       "10.0       1\n",
       "76.0       1\n",
       "48.0       1\n",
       "50.0       1\n",
       "8.0        1\n",
       "100.0      1\n",
       "1967.0     1\n",
       "Name: BestSellersRank, dtype: int64"
      ]
     },
     "execution_count": 26,
     "metadata": {},
     "output_type": "execute_result"
    }
   ],
   "source": [
    "rawData.BestSellersRank.value_counts()"
   ]
  },
  {
   "cell_type": "markdown",
   "metadata": {},
   "source": [
    "Multiple products can share the same ranking."
   ]
  },
  {
   "cell_type": "code",
   "execution_count": 27,
   "metadata": {
    "scrolled": true
   },
   "outputs": [
    {
     "name": "stderr",
     "output_type": "stream",
     "text": [
      "/Users/tasneemdawoodjee/opt/anaconda3/lib/python3.7/site-packages/numpy/lib/histograms.py:829: RuntimeWarning: invalid value encountered in greater_equal\n",
      "  keep = (tmp_a >= first_edge)\n",
      "/Users/tasneemdawoodjee/opt/anaconda3/lib/python3.7/site-packages/numpy/lib/histograms.py:830: RuntimeWarning: invalid value encountered in less_equal\n",
      "  keep &= (tmp_a <= last_edge)\n"
     ]
    },
    {
     "data": {
      "image/png": "[encoded data removed]",
      "text/plain": [
       "<Figure size 432x288 with 1 Axes>"
      ]
     },
     "metadata": {
      "needs_background": "light"
     },
     "output_type": "display_data"
    }
   ],
   "source": [
    "# Histogram of BestSellersRank\n",
    "plt.hist(rawData['BestSellersRank'], bins=20)\n",
    "plt.show()\n",
    "\n",
    "# Runtime error occurs because not all products are ranked\n",
    "# Even with error, we can still visualize distribution of products that are ranked."
   ]
  },
  {
   "cell_type": "markdown",
   "metadata": {},
   "source": [
    "### Shipping Weight "
   ]
  },
  {
   "cell_type": "code",
   "execution_count": 28,
   "metadata": {
    "scrolled": false
   },
   "outputs": [
    {
     "data": {
      "image/png": "[encoded data removed]",
      "text/plain": [
       "<Figure size 432x288 with 1 Axes>"
      ]
     },
     "metadata": {
      "needs_background": "light"
     },
     "output_type": "display_data"
    }
   ],
   "source": [
    "# Histogram of ShippingWeight\n",
    "plt.hist(rawData['ShippingWeight'], bins=12)\n",
    "plt.show()"
   ]
  },
  {
   "cell_type": "code",
   "execution_count": 29,
   "metadata": {
    "scrolled": true
   },
   "outputs": [
    {
     "data": {
      "image/png": "[encoded data removed]",
      "text/plain": [
       "<Figure size 432x288 with 1 Axes>"
      ]
     },
     "metadata": {
      "needs_background": "light"
     },
     "output_type": "display_data"
    }
   ],
   "source": [
    "# Histogram of ShippingWeight\n",
    "plt.hist(rawData['ShippingWeight'], bins=30)\n",
    "plt.show()"
   ]
  },
  {
   "cell_type": "markdown",
   "metadata": {},
   "source": [
    "### Product Depth"
   ]
  },
  {
   "cell_type": "code",
   "execution_count": 30,
   "metadata": {
    "scrolled": false
   },
   "outputs": [
    {
     "data": {
      "image/png": "[encoded data removed]",
      "text/plain": [
       "<Figure size 432x288 with 1 Axes>"
      ]
     },
     "metadata": {
      "needs_background": "light"
     },
     "output_type": "display_data"
    }
   ],
   "source": [
    "# Histogram of ProductDepth\n",
    "plt.hist(rawData['ProductDepth'], bins=12)\n",
    "plt.show()"
   ]
  },
  {
   "cell_type": "code",
   "execution_count": 31,
   "metadata": {
    "scrolled": true
   },
   "outputs": [
    {
     "data": {
      "image/png": "[encoded data removed]",
      "text/plain": [
       "<Figure size 432x288 with 1 Axes>"
      ]
     },
     "metadata": {
      "needs_background": "light"
     },
     "output_type": "display_data"
    }
   ],
   "source": [
    "# Histogram of ProductDepth\n",
    "plt.hist(rawData['ProductDepth'], bins=30)\n",
    "plt.show()"
   ]
  },
  {
   "cell_type": "markdown",
   "metadata": {},
   "source": [
    "### Product Width"
   ]
  },
  {
   "cell_type": "code",
   "execution_count": 32,
   "metadata": {
    "scrolled": false
   },
   "outputs": [
    {
     "data": {
      "image/png": "[encoded data removed]",
      "text/plain": [
       "<Figure size 432x288 with 1 Axes>"
      ]
     },
     "metadata": {
      "needs_background": "light"
     },
     "output_type": "display_data"
    }
   ],
   "source": [
    "# Histogram of ProductWidth\n",
    "plt.hist(rawData['ProductWidth'], bins=12)\n",
    "plt.show()"
   ]
  },
  {
   "cell_type": "code",
   "execution_count": 33,
   "metadata": {
    "scrolled": true
   },
   "outputs": [
    {
     "data": {
      "image/png": "[encoded data removed]",
      "text/plain": [
       "<Figure size 432x288 with 1 Axes>"
      ]
     },
     "metadata": {
      "needs_background": "light"
     },
     "output_type": "display_data"
    }
   ],
   "source": [
    "# Histogram of ProductWidth\n",
    "plt.hist(rawData['ProductWidth'], bins=30)\n",
    "plt.show()"
   ]
  },
  {
   "cell_type": "markdown",
   "metadata": {},
   "source": [
    "### Product Height"
   ]
  },
  {
   "cell_type": "code",
   "execution_count": 34,
   "metadata": {
    "scrolled": false
   },
   "outputs": [
    {
     "data": {
      "image/png": "[encoded data removed]",
      "text/plain": [
       "<Figure size 432x288 with 1 Axes>"
      ]
     },
     "metadata": {
      "needs_background": "light"
     },
     "output_type": "display_data"
    }
   ],
   "source": [
    "# Histogram of ProductHeight\n",
    "plt.hist(rawData['ProductHeight'], bins=12)\n",
    "plt.show()"
   ]
  },
  {
   "cell_type": "code",
   "execution_count": 35,
   "metadata": {
    "scrolled": true
   },
   "outputs": [
    {
     "data": {
      "image/png": "[encoded data removed]",
      "text/plain": [
       "<Figure size 432x288 with 1 Axes>"
      ]
     },
     "metadata": {
      "needs_background": "light"
     },
     "output_type": "display_data"
    }
   ],
   "source": [
    "# Histogram of ProductHeight\n",
    "plt.hist(rawData['ProductHeight'], bins=30)\n",
    "plt.show()"
   ]
  },
  {
   "cell_type": "markdown",
   "metadata": {},
   "source": [
    "### Profit Margin\n",
    "   "
   ]
  },
  {
   "cell_type": "code",
   "execution_count": 36,
   "metadata": {
    "scrolled": false
   },
   "outputs": [
    {
     "data": {
      "image/png": "[encoded data removed]",
      "text/plain": [
       "<Figure size 432x288 with 1 Axes>"
      ]
     },
     "metadata": {
      "needs_background": "light"
     },
     "output_type": "display_data"
    }
   ],
   "source": [
    "# Histogram of ProfitMargin\n",
    "plt.hist(rawData['ProfitMargin'], bins=12)\n",
    "plt.show()"
   ]
  },
  {
   "cell_type": "code",
   "execution_count": 37,
   "metadata": {
    "scrolled": true
   },
   "outputs": [
    {
     "data": {
      "image/png": "[encoded data removed]",
      "text/plain": [
       "<Figure size 432x288 with 1 Axes>"
      ]
     },
     "metadata": {
      "needs_background": "light"
     },
     "output_type": "display_data"
    }
   ],
   "source": [
    "# Histogram of ProfitMargin\n",
    "plt.hist(rawData['ProfitMargin'], bins=30)\n",
    "plt.show()"
   ]
  },
  {
   "cell_type": "markdown",
   "metadata": {},
   "source": [
    "### Target Variable: Volume"
   ]
  },
  {
   "cell_type": "code",
   "execution_count": 38,
   "metadata": {
    "scrolled": false
   },
   "outputs": [
    {
     "data": {
      "image/png": "[encoded data removed]",
      "text/plain": [
       "<Figure size 432x288 with 1 Axes>"
      ]
     },
     "metadata": {
      "needs_background": "light"
     },
     "output_type": "display_data"
    }
   ],
   "source": [
    "# Frequency Distribution of Volume\n",
    "plt.hist(rawData['Volume'], bins=12)\n",
    "plt.show()"
   ]
  },
  {
   "cell_type": "code",
   "execution_count": 39,
   "metadata": {
    "scrolled": true
   },
   "outputs": [
    {
     "data": {
      "image/png": "[encoded data removed]",
      "text/plain": [
       "<Figure size 432x288 with 1 Axes>"
      ]
     },
     "metadata": {
      "needs_background": "light"
     },
     "output_type": "display_data"
    }
   ],
   "source": [
    "# Frequency Distribution of Volume\n",
    "plt.hist(rawData['Volume'], bins=30)\n",
    "plt.show()"
   ]
  },
  {
   "cell_type": "markdown",
   "metadata": {},
   "source": [
    "## Categorical"
   ]
  },
  {
   "cell_type": "markdown",
   "metadata": {},
   "source": [
    "### Product Type\n",
    "\n",
    "The sales team is interested in predicting sales for four different product types: PC, Laptops, Netbooks and Smartphones. \n"
   ]
  },
  {
   "cell_type": "code",
   "execution_count": 40,
   "metadata": {},
   "outputs": [
    {
     "data": {
      "text/plain": [
       "Accessories         26\n",
       "Printer             12\n",
       "ExtendedWarranty    10\n",
       "Software             6\n",
       "Display              5\n",
       "PC                   4\n",
       "Smartphone           4\n",
       "Laptop               3\n",
       "PrinterSupplies      3\n",
       "Tablet               3\n",
       "GameConsole          2\n",
       "Netbook              2\n",
       "Name: ProductType, dtype: int64"
      ]
     },
     "execution_count": 40,
     "metadata": {},
     "output_type": "execute_result"
    }
   ],
   "source": [
    "rawData.ProductType.value_counts()"
   ]
  },
  {
   "cell_type": "code",
   "execution_count": 41,
   "metadata": {},
   "outputs": [
    {
     "data": {
      "text/plain": [
       "<seaborn.axisgrid.FacetGrid at 0x1a24a80910>"
      ]
     },
     "execution_count": 41,
     "metadata": {},
     "output_type": "execute_result"
    },
    {
     "data": {
      "image/png": "[encoded data removed]",
      "text/plain": [
       "<Figure size 1260x360 with 1 Axes>"
      ]
     },
     "metadata": {
      "needs_background": "light"
     },
     "output_type": "display_data"
    }
   ],
   "source": [
    "# Frequency Distribution of Product Type\n",
    "fg = sns.catplot('ProductType', data=rawData, kind='count', aspect=3.5)\n",
    "fg.set_xlabels('Product Types')"
   ]
  },
  {
   "cell_type": "markdown",
   "metadata": {},
   "source": [
    "Since there are so many other product types included in the data, I will keep only products that are relevant to our analysis: PC, Laptops, Netbooks and Smartphones. "
   ]
  },
  {
   "cell_type": "code",
   "execution_count": 42,
   "metadata": {},
   "outputs": [],
   "source": [
    "# Consider removing irrelevant product types\n",
    "\n",
    "relevantProducts = ['PC','Laptop','Netbook','Smartphone']\n",
    "rawData['ProductType'] = rawData[rawData['ProductType'].isin(relevantProducts)]"
   ]
  },
  {
   "cell_type": "code",
   "execution_count": 43,
   "metadata": {},
   "outputs": [
    {
     "data": {
      "text/plain": [
       "PC            4\n",
       "Smartphone    4\n",
       "Laptop        3\n",
       "Netbook       2\n",
       "Name: ProductType, dtype: int64"
      ]
     },
     "execution_count": 43,
     "metadata": {},
     "output_type": "execute_result"
    }
   ],
   "source": [
    "rawData.ProductType.value_counts()"
   ]
  },
  {
   "cell_type": "markdown",
   "metadata": {},
   "source": [
    "This removes a lot of data..., although we didn't have much to start with. "
   ]
  },
  {
   "cell_type": "markdown",
   "metadata": {},
   "source": [
    "### Product Number\n",
    "\n",
    "This is an identifier column and is unnecessary, at least for this part of the analysis. I am not predicting sales volumes for specific products but rather for products with similar attributes. "
   ]
  },
  {
   "cell_type": "code",
   "execution_count": 44,
   "metadata": {},
   "outputs": [
    {
     "data": {
      "text/plain": [
       "0     101\n",
       "1     102\n",
       "2     103\n",
       "3     104\n",
       "4     105\n",
       "     ... \n",
       "75    191\n",
       "76    192\n",
       "77    182\n",
       "78    197\n",
       "79    200\n",
       "Name: ProductNum, Length: 80, dtype: int64"
      ]
     },
     "execution_count": 44,
     "metadata": {},
     "output_type": "execute_result"
    }
   ],
   "source": [
    "rawData.ProductNum"
   ]
  },
  {
   "cell_type": "code",
   "execution_count": 45,
   "metadata": {},
   "outputs": [],
   "source": [
    "# I will leave it as it, but drop it if necessary\n",
    "rawData = rawData.drop(['ProductNum'],axis=1)\n"
   ]
  },
  {
   "cell_type": "markdown",
   "metadata": {},
   "source": [
    "# Missing Values"
   ]
  },
  {
   "cell_type": "code",
   "execution_count": 46,
   "metadata": {},
   "outputs": [],
   "source": [
    "rawData = pd.read_csv('existingproductattributes2017.csv', header =0)"
   ]
  },
  {
   "cell_type": "code",
   "execution_count": 47,
   "metadata": {},
   "outputs": [
    {
     "name": "stdout",
     "output_type": "stream",
     "text": [
      "ProductType               0\n",
      "ProductNum                0\n",
      "Price                     0\n",
      "x5StarReviews             0\n",
      "x4StarReviews             0\n",
      "x3StarReviews             0\n",
      "x2StarReviews             0\n",
      "x1StarReviews             0\n",
      "PositiveServiceReview     0\n",
      "NegativeServiceReview     0\n",
      "Recommendproduct          0\n",
      "BestSellersRank          15\n",
      "ShippingWeight            0\n",
      "ProductDepth              0\n",
      "ProductWidth              0\n",
      "ProductHeight             0\n",
      "ProfitMargin              0\n",
      "Volume                    0\n",
      "dtype: int64\n"
     ]
    }
   ],
   "source": [
    "# Nulls, NaNs\n",
    "print(rawData.isnull().sum())"
   ]
  },
  {
   "cell_type": "code",
   "execution_count": 48,
   "metadata": {},
   "outputs": [],
   "source": [
    "rawData.dropna(inplace = True)"
   ]
  },
  {
   "cell_type": "code",
   "execution_count": 49,
   "metadata": {},
   "outputs": [
    {
     "name": "stdout",
     "output_type": "stream",
     "text": [
      "ProductType              0\n",
      "ProductNum               0\n",
      "Price                    0\n",
      "x5StarReviews            0\n",
      "x4StarReviews            0\n",
      "x3StarReviews            0\n",
      "x2StarReviews            0\n",
      "x1StarReviews            0\n",
      "PositiveServiceReview    0\n",
      "NegativeServiceReview    0\n",
      "Recommendproduct         0\n",
      "BestSellersRank          0\n",
      "ShippingWeight           0\n",
      "ProductDepth             0\n",
      "ProductWidth             0\n",
      "ProductHeight            0\n",
      "ProfitMargin             0\n",
      "Volume                   0\n",
      "dtype: int64\n"
     ]
    }
   ],
   "source": [
    "print(rawData.isnull().sum())"
   ]
  },
  {
   "cell_type": "markdown",
   "metadata": {},
   "source": [
    "# Change Data Types"
   ]
  },
  {
   "cell_type": "markdown",
   "metadata": {},
   "source": [
    "## Make Categorical Variables 'Category' Type"
   ]
  },
  {
   "cell_type": "code",
   "execution_count": 50,
   "metadata": {},
   "outputs": [],
   "source": [
    "rawData['ProductType'] = rawData.ProductType.astype('category')\n",
    "#rawData['ProductNum'] = rawData.ProductNum.astype('category')"
   ]
  },
  {
   "cell_type": "code",
   "execution_count": 51,
   "metadata": {},
   "outputs": [
    {
     "name": "stdout",
     "output_type": "stream",
     "text": [
      "<class 'pandas.core.frame.DataFrame'>\n",
      "Int64Index: 65 entries, 0 to 79\n",
      "Data columns (total 18 columns):\n",
      "ProductType              65 non-null category\n",
      "ProductNum               65 non-null int64\n",
      "Price                    65 non-null float64\n",
      "x5StarReviews            65 non-null int64\n",
      "x4StarReviews            65 non-null int64\n",
      "x3StarReviews            65 non-null int64\n",
      "x2StarReviews            65 non-null int64\n",
      "x1StarReviews            65 non-null int64\n",
      "PositiveServiceReview    65 non-null int64\n",
      "NegativeServiceReview    65 non-null int64\n",
      "Recommendproduct         65 non-null float64\n",
      "BestSellersRank          65 non-null float64\n",
      "ShippingWeight           65 non-null float64\n",
      "ProductDepth             65 non-null float64\n",
      "ProductWidth             65 non-null float64\n",
      "ProductHeight            65 non-null float64\n",
      "ProfitMargin             65 non-null float64\n",
      "Volume                   65 non-null int64\n",
      "dtypes: category(1), float64(8), int64(9)\n",
      "memory usage: 9.6 KB\n"
     ]
    }
   ],
   "source": [
    "rawData.info()"
   ]
  },
  {
   "cell_type": "markdown",
   "metadata": {},
   "source": [
    "## Encode Categorical Variables\n",
    "\n",
    "ProductType is the only categorical variable I need to encode. "
   ]
  },
  {
   "cell_type": "code",
   "execution_count": 52,
   "metadata": {},
   "outputs": [],
   "source": [
    "# make copy of data\n",
    "rawData_onehot = rawData.copy()"
   ]
  },
  {
   "cell_type": "code",
   "execution_count": 53,
   "metadata": {},
   "outputs": [],
   "source": [
    "# filter product types for only relevant products\n",
    "relevantProducts = ['PC','Laptop','Netbook','Smartphone']\n",
    "rawData_onehot['ProductType'] = rawData_onehot[rawData_onehot['ProductType'].isin(relevantProducts)]"
   ]
  },
  {
   "cell_type": "code",
   "execution_count": 54,
   "metadata": {},
   "outputs": [
    {
     "data": {
      "text/plain": [
       "Smartphone    4\n",
       "PC            3\n",
       "Laptop        3\n",
       "Netbook       2\n",
       "Name: ProductType, dtype: int64"
      ]
     },
     "execution_count": 54,
     "metadata": {},
     "output_type": "execute_result"
    }
   ],
   "source": [
    "# verify filter\n",
    "rawData_onehot.ProductType.value_counts()"
   ]
  },
  {
   "cell_type": "code",
   "execution_count": 55,
   "metadata": {},
   "outputs": [],
   "source": [
    "#one-hot encode product types into multiple columns\n",
    "rawData_onehot = pd.get_dummies(rawData_onehot, columns=['ProductType'], prefix = ['ProductType'])"
   ]
  },
  {
   "cell_type": "code",
   "execution_count": 56,
   "metadata": {
    "scrolled": true
   },
   "outputs": [
    {
     "data": {
      "text/plain": [
       "Index(['ProductNum', 'Price', 'x5StarReviews', 'x4StarReviews',\n",
       "       'x3StarReviews', 'x2StarReviews', 'x1StarReviews',\n",
       "       'PositiveServiceReview', 'NegativeServiceReview', 'Recommendproduct',\n",
       "       'BestSellersRank', 'ShippingWeight', 'ProductDepth', 'ProductWidth',\n",
       "       'ProductHeight', 'ProfitMargin', 'Volume', 'ProductType_Laptop',\n",
       "       'ProductType_Netbook', 'ProductType_PC', 'ProductType_Smartphone'],\n",
       "      dtype='object')"
      ]
     },
     "execution_count": 56,
     "metadata": {},
     "output_type": "execute_result"
    }
   ],
   "source": [
    "# verify columns\n",
    "rawData_onehot.columns"
   ]
  },
  {
   "cell_type": "code",
   "execution_count": 57,
   "metadata": {
    "scrolled": true
   },
   "outputs": [
    {
     "name": "stdout",
     "output_type": "stream",
     "text": [
      "ProductNum                0\n",
      "Price                     0\n",
      "x5StarReviews             0\n",
      "x4StarReviews             0\n",
      "x3StarReviews             0\n",
      "x2StarReviews             0\n",
      "x1StarReviews             0\n",
      "PositiveServiceReview     0\n",
      "NegativeServiceReview     0\n",
      "Recommendproduct          0\n",
      "BestSellersRank           0\n",
      "ShippingWeight            0\n",
      "ProductDepth              0\n",
      "ProductWidth              0\n",
      "ProductHeight             0\n",
      "ProfitMargin              0\n",
      "Volume                    0\n",
      "ProductType_Laptop        0\n",
      "ProductType_Netbook       0\n",
      "ProductType_PC            0\n",
      "ProductType_Smartphone    0\n",
      "dtype: int64\n"
     ]
    }
   ],
   "source": [
    "# Check for Nulls\n",
    "print(rawData_onehot.isnull().sum())"
   ]
  },
  {
   "cell_type": "code",
   "execution_count": 58,
   "metadata": {
    "scrolled": true
   },
   "outputs": [
    {
     "name": "stdout",
     "output_type": "stream",
     "text": [
      "<class 'pandas.core.frame.DataFrame'>\n",
      "Int64Index: 65 entries, 0 to 79\n",
      "Data columns (total 21 columns):\n",
      "ProductNum                65 non-null int64\n",
      "Price                     65 non-null float64\n",
      "x5StarReviews             65 non-null int64\n",
      "x4StarReviews             65 non-null int64\n",
      "x3StarReviews             65 non-null int64\n",
      "x2StarReviews             65 non-null int64\n",
      "x1StarReviews             65 non-null int64\n",
      "PositiveServiceReview     65 non-null int64\n",
      "NegativeServiceReview     65 non-null int64\n",
      "Recommendproduct          65 non-null float64\n",
      "BestSellersRank           65 non-null float64\n",
      "ShippingWeight            65 non-null float64\n",
      "ProductDepth              65 non-null float64\n",
      "ProductWidth              65 non-null float64\n",
      "ProductHeight             65 non-null float64\n",
      "ProfitMargin              65 non-null float64\n",
      "Volume                    65 non-null int64\n",
      "ProductType_Laptop        65 non-null uint8\n",
      "ProductType_Netbook       65 non-null uint8\n",
      "ProductType_PC            65 non-null uint8\n",
      "ProductType_Smartphone    65 non-null uint8\n",
      "dtypes: float64(8), int64(9), uint8(4)\n",
      "memory usage: 9.4 KB\n"
     ]
    }
   ],
   "source": [
    "#verify types\n",
    "rawData_onehot.info()"
   ]
  },
  {
   "cell_type": "markdown",
   "metadata": {},
   "source": [
    "# Out of the Box Models\n",
    "- Support Vector Machine (SVM)\n",
    "- Random Forest\n",
    "- Gradient Boosting"
   ]
  },
  {
   "cell_type": "markdown",
   "metadata": {},
   "source": [
    "## Train Test Split"
   ]
  },
  {
   "cell_type": "code",
   "execution_count": 59,
   "metadata": {},
   "outputs": [],
   "source": [
    "cols = ['Price', 'x5StarReviews', 'x4StarReviews',\n",
    "       'x3StarReviews', 'x2StarReviews', 'x1StarReviews',\n",
    "       'PositiveServiceReview', 'NegativeServiceReview', 'Recommendproduct',\n",
    "       'BestSellersRank', 'ShippingWeight', 'ProductDepth', 'ProductWidth',\n",
    "       'ProductHeight', 'ProfitMargin', 'ProductType_Laptop',\n",
    "       'ProductType_Netbook', 'ProductType_PC', 'ProductType_Smartphone']  #not including product number and volume\n",
    "X = rawData_onehot[cols]\n",
    "y = rawData_onehot['Volume']"
   ]
  },
  {
   "cell_type": "code",
   "execution_count": 60,
   "metadata": {
    "scrolled": true
   },
   "outputs": [
    {
     "data": {
      "text/plain": [
       "Index(['Price', 'x5StarReviews', 'x4StarReviews', 'x3StarReviews',\n",
       "       'x2StarReviews', 'x1StarReviews', 'PositiveServiceReview',\n",
       "       'NegativeServiceReview', 'Recommendproduct', 'BestSellersRank',\n",
       "       'ShippingWeight', 'ProductDepth', 'ProductWidth', 'ProductHeight',\n",
       "       'ProfitMargin', 'ProductType_Laptop', 'ProductType_Netbook',\n",
       "       'ProductType_PC', 'ProductType_Smartphone'],\n",
       "      dtype='object')"
      ]
     },
     "execution_count": 60,
     "metadata": {},
     "output_type": "execute_result"
    }
   ],
   "source": [
    "X.columns"
   ]
  },
  {
   "cell_type": "code",
   "execution_count": 61,
   "metadata": {
    "scrolled": false
   },
   "outputs": [
    {
     "data": {
      "text/plain": [
       "0       12\n",
       "1        8\n",
       "2       12\n",
       "3      196\n",
       "4      232\n",
       "      ... \n",
       "75     248\n",
       "76      72\n",
       "77      88\n",
       "78    1472\n",
       "79    1684\n",
       "Name: Volume, Length: 65, dtype: int64"
      ]
     },
     "execution_count": 61,
     "metadata": {},
     "output_type": "execute_result"
    }
   ],
   "source": [
    "y"
   ]
  },
  {
   "cell_type": "code",
   "execution_count": 62,
   "metadata": {},
   "outputs": [],
   "source": [
    "X_train, X_test, y_train, y_test = train_test_split(\n",
    "...     X, y, test_size=0.3, random_state=42)"
   ]
  },
  {
   "cell_type": "markdown",
   "metadata": {},
   "source": [
    "## Random Forest"
   ]
  },
  {
   "cell_type": "code",
   "execution_count": 63,
   "metadata": {},
   "outputs": [
    {
     "name": "stdout",
     "output_type": "stream",
     "text": [
      "Index(['groundTruth', 'predictions'], dtype='object')\n",
      "R-Squared for rf_ofb_model model: 0.98902 \n",
      "RMSE for rf_ofb_model model: 56.09516 \n",
      "MSE for rf_ofb_model model: 3146.66648 \n"
     ]
    }
   ],
   "source": [
    "# Random Forest Model \n",
    "\n",
    "modelName = 'rf_ofb_model'\n",
    "rf_ofb_model = RandomForestRegressor(random_state=0)\n",
    "rf_ofb_model.fit(X_train, y_train)\n",
    "predictions_rf= rf_ofb_model.predict(X_test)\n",
    "results= predDF(modelName,predictions_rf, y_test )\n",
    "myMetrics(modelName, y_test, predictions_rf)"
   ]
  },
  {
   "cell_type": "code",
   "execution_count": 64,
   "metadata": {},
   "outputs": [
    {
     "data": {
      "image/png": "[encoded data removed]",
      "text/plain": [
       "<Figure size 432x288 with 1 Axes>"
      ]
     },
     "metadata": {
      "needs_background": "light"
     },
     "output_type": "display_data"
    }
   ],
   "source": [
    "fig, ax = plt.subplots()\n",
    "ax.scatter(results.groundTruth, results.predictions, edgecolors=(0, 0, 0))\n",
    "ax.plot([results.groundTruth.min(), results.groundTruth.max()], [results.groundTruth.min(),results.groundTruth.max()], 'k--', lw=.3)\n",
    "ax.set_xlabel('Actual')\n",
    "ax.set_ylabel('Predicted')\n",
    "ax.set_title(\"Ground Truth vs Predicted\")\n",
    "plt.show()"
   ]
  },
  {
   "cell_type": "markdown",
   "metadata": {},
   "source": [
    "## Support Vector Machine"
   ]
  },
  {
   "cell_type": "code",
   "execution_count": 65,
   "metadata": {},
   "outputs": [
    {
     "name": "stdout",
     "output_type": "stream",
     "text": [
      "Index(['groundTruth', 'predictions'], dtype='object')\n",
      "R-Squared for svm model: -0.16290 \n",
      "RMSE for svm model: 577.17987 \n",
      "MSE for svm model: 333136.59684 \n"
     ]
    }
   ],
   "source": [
    "# Support Vector Machine\n",
    "modelName = 'svm'\n",
    "model = svm.SVR()\n",
    "model.fit(X_train, y_train)\n",
    "predictions= model.predict(X_test)\n",
    "results = predDF(modelName,predictions, y_test )\n",
    "myMetrics(modelName, y_test, predictions)"
   ]
  },
  {
   "cell_type": "code",
   "execution_count": 66,
   "metadata": {},
   "outputs": [
    {
     "data": {
      "image/png": "[encoded data removed]",
      "text/plain": [
       "<Figure size 432x288 with 1 Axes>"
      ]
     },
     "metadata": {
      "needs_background": "light"
     },
     "output_type": "display_data"
    }
   ],
   "source": [
    "fig, ax = plt.subplots()\n",
    "ax.scatter(results.groundTruth, results.predictions, edgecolors=(0, 0, 0))\n",
    "ax.plot([results.groundTruth.min(), results.groundTruth.max()], [results.groundTruth.min(),results.groundTruth.max()], 'k--', lw=.3)\n",
    "ax.set_xlabel('Actual')\n",
    "ax.set_ylabel('Predicted')\n",
    "ax.set_title(\"Ground Truth vs Predicted\")\n",
    "plt.show()"
   ]
  },
  {
   "cell_type": "markdown",
   "metadata": {},
   "source": [
    "## Gradient Boosting"
   ]
  },
  {
   "cell_type": "code",
   "execution_count": 67,
   "metadata": {},
   "outputs": [
    {
     "name": "stdout",
     "output_type": "stream",
     "text": [
      "Index(['groundTruth', 'predictions'], dtype='object')\n",
      "R-Squared for gbr_ofb model: 0.98344 \n",
      "RMSE for gbr_ofb model: 68.86609 \n",
      "MSE for gbr_ofb model: 4742.53901 \n"
     ]
    }
   ],
   "source": [
    "# GradientBoostingRegressor\n",
    "modelName = 'gbr_ofb'\n",
    "gbr_ofb = GradientBoostingRegressor()\n",
    "gbr_ofb.fit(X_train, y_train)\n",
    "predictions= gbr_ofb.predict(X_test)\n",
    "results = predDF(modelName,predictions, y_test )\n",
    "myMetrics(modelName, y_test, predictions)"
   ]
  },
  {
   "cell_type": "code",
   "execution_count": 68,
   "metadata": {},
   "outputs": [
    {
     "data": {
      "image/png": "[encoded data removed]",
      "text/plain": [
       "<Figure size 432x288 with 1 Axes>"
      ]
     },
     "metadata": {
      "needs_background": "light"
     },
     "output_type": "display_data"
    }
   ],
   "source": [
    "fig, ax = plt.subplots()\n",
    "ax.scatter(results.groundTruth, results.predictions, edgecolors=(0, 0, 0))\n",
    "ax.plot([results.groundTruth.min(), results.groundTruth.max()], [results.groundTruth.min(),results.groundTruth.max()], 'k--', lw=.3)\n",
    "ax.set_xlabel('Actual')\n",
    "ax.set_ylabel('Predicted')\n",
    "ax.set_title(\"Ground Truth vs Predicted\")\n",
    "plt.show()\n",
    "\n",
    "\n",
    "# source: https://acadgild.com/blog/gradient-boosting-for-regression-problems"
   ]
  },
  {
   "cell_type": "code",
   "execution_count": 70,
   "metadata": {},
   "outputs": [],
   "source": [
    "# Download Dataset(s) for Model\n",
    "results.to_csv('results_gtb_ofb.csv')"
   ]
  },
  {
   "cell_type": "markdown",
   "metadata": {},
   "source": [
    "# Correlation Plot"
   ]
  },
  {
   "cell_type": "markdown",
   "metadata": {},
   "source": [
    "## Correlation Matrix and Heatmap"
   ]
  },
  {
   "cell_type": "code",
   "execution_count": null,
   "metadata": {},
   "outputs": [],
   "source": [
    "#correlation\n",
    "correlations = rawData_onehot.corr()\n",
    "print(correlations)"
   ]
  },
  {
   "cell_type": "code",
   "execution_count": null,
   "metadata": {},
   "outputs": [],
   "source": [
    "fig = sns.heatmap(correlations, mask=None, center=1, annot = False, square=False, linewidths=2, cbar_kws={\"shrink\": 1}, xticklabels=True, yticklabels= True)\n",
    "\n",
    "plt.figure(figsize=(300, 300))"
   ]
  },
  {
   "cell_type": "code",
   "execution_count": null,
   "metadata": {},
   "outputs": [],
   "source": [
    "# only prints last output\n",
    "InteractiveShell.ast_node_interactivity = \"last_expr\""
   ]
  },
  {
   "cell_type": "code",
   "execution_count": null,
   "metadata": {
    "scrolled": true
   },
   "outputs": [],
   "source": [
    "# list top 5 correlations\n",
    "df = rawData_onehot\n",
    "\n",
    "def get_redundant_pairs(df):\n",
    "    '''Get diagonal and lower triangular pairs of correlation matrix'''\n",
    "    pairs_to_drop = set()\n",
    "    cols = df.columns\n",
    "    for i in range(0, df.shape[1]):\n",
    "        for j in range(0, i+1):\n",
    "            pairs_to_drop.add((cols[i], cols[j]))\n",
    "    return pairs_to_drop\n",
    "\n",
    "def get_top_abs_correlations(df, n=5):\n",
    "    au_corr = df.corr().abs().unstack()\n",
    "    labels_to_drop = get_redundant_pairs(df)\n",
    "    au_corr = au_corr.drop(labels=labels_to_drop).sort_values(ascending=False)\n",
    "    return au_corr[0:n]\n",
    "\n",
    "print(\"Top Absolute Correlations\")\n",
    "print(get_top_abs_correlations(df, 20))\n",
    "\n",
    "#source: https://stackoverflow.com/questions/17778394/list-highest-correlation-pairs-from-a-large-correlation-matrix-in-pandas\n",
    "\n"
   ]
  },
  {
   "cell_type": "markdown",
   "metadata": {},
   "source": [
    "## Covariance"
   ]
  },
  {
   "cell_type": "code",
   "execution_count": null,
   "metadata": {
    "scrolled": false
   },
   "outputs": [],
   "source": [
    "#covariance\n",
    "covMat = rawData_onehot.cov()\n",
    "print(covMat)"
   ]
  },
  {
   "cell_type": "markdown",
   "metadata": {},
   "source": [
    "5-star reviews are perfectly correlated with the target variable, Volume. I will not use it a a feature. 1-star and 2-star reviews are highly correlated as well as 3-star and 4-star reviews.\n",
    "\n",
    "Reviews and Volumne Covariance\n",
    "- x2StarReviews 39937.12981\n",
    "- x3StarReviews 42183.07981\n",
    "- x1StarReviews\t84174.63462\n",
    "- x4StarReviews\t110285.3317\n",
    "- x5StarReview5\t682044.1212\n",
    "\n",
    "1-star reviews have a higher variance than 2-star reviews so I will drop 2-star reviews.\n",
    "4-star reviews have a higher variance than 3-star reviews so I will drop 3-star reviews. "
   ]
  },
  {
   "cell_type": "markdown",
   "metadata": {},
   "source": [
    "## Train Test Split with Highly Correlated Variables Removed"
   ]
  },
  {
   "cell_type": "code",
   "execution_count": null,
   "metadata": {},
   "outputs": [],
   "source": [
    "cols = ['Price',\n",
    "       'x4StarReviews', 'x1StarReviews',\n",
    "       'PositiveServiceReview', 'NegativeServiceReview', 'Recommendproduct',\n",
    "       'BestSellersRank', 'ShippingWeight', 'ProductDepth', 'ProductWidth',\n",
    "       'ProductHeight', 'ProfitMargin', 'ProductType_Laptop',\n",
    "       'ProductType_Netbook', 'ProductType_PC', 'ProductType_Smartphone'] \n",
    "#not including product number, volume,  5-star reviews, 3-star reviews, 2-star reviews\n",
    "X = rawData_onehot[cols]\n",
    "y = rawData_onehot['Volume']"
   ]
  },
  {
   "cell_type": "code",
   "execution_count": null,
   "metadata": {},
   "outputs": [],
   "source": [
    "X.columns"
   ]
  },
  {
   "cell_type": "code",
   "execution_count": null,
   "metadata": {},
   "outputs": [],
   "source": [
    "y"
   ]
  },
  {
   "cell_type": "code",
   "execution_count": null,
   "metadata": {},
   "outputs": [],
   "source": [
    "X_train, X_test, y_train, y_test = train_test_split(\n",
    "...     X, y, test_size=0.3, random_state=42)"
   ]
  },
  {
   "cell_type": "markdown",
   "metadata": {},
   "source": [
    "### Random Forest"
   ]
  },
  {
   "cell_type": "code",
   "execution_count": null,
   "metadata": {},
   "outputs": [],
   "source": [
    "# Random Forest Model \n",
    "\n",
    "modelName = 'rf'\n",
    "model = RandomForestRegressor(random_state=0)\n",
    "model.fit(X_train, y_train)\n",
    "predictions_rf= model.predict(X_test)\n",
    "results = predDF(modelName,predictions_rf, y_test )\n",
    "myMetrics(modelName, y_test, predictions_rf)"
   ]
  },
  {
   "cell_type": "code",
   "execution_count": null,
   "metadata": {},
   "outputs": [],
   "source": [
    "fig, ax = plt.subplots()\n",
    "ax.scatter(results.groundTruth, results.predictions, edgecolors=(0, 0, 0))\n",
    "ax.plot([results.groundTruth.min(), results.groundTruth.max()], [results.groundTruth.min(),results.groundTruth.max()], 'k--', lw=.3)\n",
    "ax.set_xlabel('Actual')\n",
    "ax.set_ylabel('Predicted')\n",
    "ax.set_title(\"Ground Truth vs Predicted\")\n",
    "plt.show()"
   ]
  },
  {
   "cell_type": "markdown",
   "metadata": {},
   "source": [
    "### Support Vector Machine"
   ]
  },
  {
   "cell_type": "code",
   "execution_count": null,
   "metadata": {},
   "outputs": [],
   "source": [
    "# Support Vector Machine\n",
    "modelName = 'svm'\n",
    "model = svm.SVR()\n",
    "model.fit(X_train, y_train)\n",
    "predictions= model.predict(X_test)\n",
    "results = predDF(modelName,predictions, y_test )\n",
    "myMetrics(modelName, y_test, predictions)"
   ]
  },
  {
   "cell_type": "code",
   "execution_count": null,
   "metadata": {},
   "outputs": [],
   "source": [
    "fig, ax = plt.subplots()\n",
    "ax.scatter(results.groundTruth, results.predictions, edgecolors=(0, 0, 0))\n",
    "ax.plot([results.groundTruth.min(), results.groundTruth.max()], [results.groundTruth.min(),results.groundTruth.max()], 'k--', lw=.3)\n",
    "ax.set_xlabel('Actual')\n",
    "ax.set_ylabel('Predicted')\n",
    "ax.set_title(\"Ground Truth vs Predicted\")\n",
    "plt.show()"
   ]
  },
  {
   "cell_type": "markdown",
   "metadata": {},
   "source": [
    "### Gradient Boosting"
   ]
  },
  {
   "cell_type": "code",
   "execution_count": null,
   "metadata": {},
   "outputs": [],
   "source": [
    "# GradientBoostingRegressor\n",
    "modelName = 'gbr'\n",
    "model = GradientBoostingRegressor()\n",
    "model.fit(X_train, y_train)\n",
    "predictions= model.predict(X_test)\n",
    "results = predDF(modelName,predictions, y_test )\n",
    "myMetrics(modelName, y_test, predictions)"
   ]
  },
  {
   "cell_type": "code",
   "execution_count": null,
   "metadata": {},
   "outputs": [],
   "source": [
    "fig, ax = plt.subplots()\n",
    "ax.scatter(results.groundTruth, results.predictions, edgecolors=(0, 0, 0))\n",
    "ax.plot([results.groundTruth.min(), results.groundTruth.max()], [results.groundTruth.min(),results.groundTruth.max()], 'k--', lw=.3)\n",
    "ax.set_xlabel('Actual')\n",
    "ax.set_ylabel('Predicted')\n",
    "ax.set_title(\"Ground Truth vs Predicted\")\n",
    "plt.show()\n",
    "\n",
    "\n",
    "# source: https://acadgild.com/blog/gradient-boosting-for-regression-problems"
   ]
  },
  {
   "cell_type": "markdown",
   "metadata": {},
   "source": [
    "I will no longer consider SVM as an appropriate model for this problem. \n",
    "\n",
    "Both Random Forest and Gradient Boosting have high R-Squared values, 0.98745 and 0.99532, respectively. Random Forest, however, has a significantly higher MSE (3596.3752 compared to 1341.56924). That's a big difference, considering that sales volume distribution ranges between 0 to a little over 2000 (per the Volume histogram). "
   ]
  },
  {
   "cell_type": "markdown",
   "metadata": {},
   "source": [
    "## Train Test Split with just Perfectly Correlated Variables Removed\n",
    "\n",
    "Run models with 5-star variables removed"
   ]
  },
  {
   "cell_type": "code",
   "execution_count": null,
   "metadata": {},
   "outputs": [],
   "source": [
    "cols = ['Price',\n",
    "       'x4StarReviews','x3StarReviews','x2StarReviews', 'x1StarReviews',\n",
    "       'PositiveServiceReview', 'NegativeServiceReview', 'Recommendproduct',\n",
    "       'BestSellersRank', 'ShippingWeight', 'ProductDepth', 'ProductWidth',\n",
    "       'ProductHeight', 'ProfitMargin', 'ProductType_Laptop',\n",
    "       'ProductType_Netbook', 'ProductType_PC', 'ProductType_Smartphone'] \n",
    "#not including product number, volume, 5-star reviews\n",
    "X = rawData_onehot[cols]\n",
    "y = rawData_onehot['Volume']"
   ]
  },
  {
   "cell_type": "code",
   "execution_count": null,
   "metadata": {},
   "outputs": [],
   "source": [
    "X.columns"
   ]
  },
  {
   "cell_type": "code",
   "execution_count": null,
   "metadata": {},
   "outputs": [],
   "source": [
    "y"
   ]
  },
  {
   "cell_type": "code",
   "execution_count": null,
   "metadata": {},
   "outputs": [],
   "source": [
    "X_train, X_test, y_train, y_test = train_test_split(\n",
    "...     X, y, test_size=0.3, random_state=42)"
   ]
  },
  {
   "cell_type": "markdown",
   "metadata": {},
   "source": [
    "### Random Forest"
   ]
  },
  {
   "cell_type": "code",
   "execution_count": null,
   "metadata": {},
   "outputs": [],
   "source": [
    "# Random Forest Model \n",
    "\n",
    "modelName = 'rf'\n",
    "model = RandomForestRegressor(random_state=0)\n",
    "model.fit(X_train, y_train)\n",
    "predictions_rf= model.predict(X_test)\n",
    "results = predDF(modelName,predictions_rf, y_test )\n",
    "myMetrics(modelName, y_test, predictions_rf)"
   ]
  },
  {
   "cell_type": "code",
   "execution_count": null,
   "metadata": {},
   "outputs": [],
   "source": [
    "fig, ax = plt.subplots()\n",
    "ax.scatter(results.groundTruth, results.predictions, edgecolors=(0, 0, 0))\n",
    "ax.plot([results.groundTruth.min(), results.groundTruth.max()], [results.groundTruth.min(),results.groundTruth.max()], 'k--', lw=.3)\n",
    "ax.set_xlabel('Actual')\n",
    "ax.set_ylabel('Predicted')\n",
    "ax.set_title(\"Ground Truth vs Predicted\")\n",
    "plt.show()"
   ]
  },
  {
   "cell_type": "markdown",
   "metadata": {},
   "source": [
    "### Gradient Boosting"
   ]
  },
  {
   "cell_type": "code",
   "execution_count": null,
   "metadata": {},
   "outputs": [],
   "source": [
    "# GradientBoostingRegressor\n",
    "modelName = 'gbr'\n",
    "model = GradientBoostingRegressor()\n",
    "model.fit(X_train, y_train)\n",
    "predictions= model.predict(X_test)\n",
    "results = predDF(modelName,predictions, y_test )\n",
    "myMetrics(modelName, y_test, predictions)"
   ]
  },
  {
   "cell_type": "code",
   "execution_count": null,
   "metadata": {},
   "outputs": [],
   "source": [
    "fig, ax = plt.subplots()\n",
    "ax.scatter(results.groundTruth, results.predictions, edgecolors=(0, 0, 0))\n",
    "ax.plot([results.groundTruth.min(), results.groundTruth.max()], [results.groundTruth.min(),results.groundTruth.max()], 'k--', lw=.3)\n",
    "ax.set_xlabel('Actual')\n",
    "ax.set_ylabel('Predicted')\n",
    "ax.set_title(\"Ground Truth vs Predicted\")\n",
    "plt.show()\n",
    "\n",
    "\n",
    "# source: https://acadgild.com/blog/gradient-boosting-for-regression-problems"
   ]
  },
  {
   "cell_type": "markdown",
   "metadata": {},
   "source": [
    "I will no longer consider SVM as an appropriate model for this problem. \n",
    "\n",
    "Both Random Forest and Gradient Boosting have high R-Squared values, 0.98745 and 0.99532, respectively. Random Forest, however, has a significantly higher MSE (3596.3752 compared to 1341.56924). That's a big difference, considering that sales volume distribution ranges between 0 to a little over 2000 (per the Volume histogram). "
   ]
  },
  {
   "cell_type": "markdown",
   "metadata": {},
   "source": [
    "# Without Variables that Make no Logical Sense\n",
    "\n",
    "Shipping Weight? If this affect price of shipping, it may affect sales. I don't know so I'm going to remove it and see what happens. \n",
    "\n",
    "This varies so much based on product type. Since the focus is more on product type (per the sales team's request), I will remove this variables as well. \n",
    "\n",
    "Product Depth\n",
    "Product Width\n",
    "Product Height"
   ]
  },
  {
   "cell_type": "code",
   "execution_count": null,
   "metadata": {},
   "outputs": [],
   "source": [
    "cols = ['Price',\n",
    "       'x4StarReviews','x3StarReviews','x2StarReviews', 'x1StarReviews',\n",
    "       'PositiveServiceReview', 'NegativeServiceReview', 'Recommendproduct',\n",
    "       'BestSellersRank','ProfitMargin', 'ProductType_Laptop',\n",
    "       'ProductType_Netbook', 'ProductType_PC', 'ProductType_Smartphone'] \n",
    "#not including product number, volume, 5-star reviews, Shipping weight, product depth/width/height\n",
    "X = rawData_onehot[cols]\n",
    "y = rawData_onehot['Volume']"
   ]
  },
  {
   "cell_type": "code",
   "execution_count": null,
   "metadata": {},
   "outputs": [],
   "source": [
    "X.columns"
   ]
  },
  {
   "cell_type": "code",
   "execution_count": null,
   "metadata": {},
   "outputs": [],
   "source": [
    "y"
   ]
  },
  {
   "cell_type": "code",
   "execution_count": null,
   "metadata": {},
   "outputs": [],
   "source": [
    "X_train, X_test, y_train, y_test = train_test_split(\n",
    "...     X, y, test_size=0.3, random_state=42)"
   ]
  },
  {
   "cell_type": "markdown",
   "metadata": {},
   "source": [
    "### Random Forest"
   ]
  },
  {
   "cell_type": "code",
   "execution_count": null,
   "metadata": {},
   "outputs": [],
   "source": [
    "# Random Forest Model \n",
    "\n",
    "modelName = 'rf'\n",
    "model = RandomForestRegressor(random_state=0)\n",
    "model.fit(X_train, y_train)\n",
    "predictions_rf= model.predict(X_test)\n",
    "results = predDF(modelName,predictions_rf, y_test )\n",
    "myMetrics(modelName, y_test, predictions_rf)"
   ]
  },
  {
   "cell_type": "code",
   "execution_count": null,
   "metadata": {},
   "outputs": [],
   "source": [
    "fig, ax = plt.subplots()\n",
    "ax.scatter(results.groundTruth, results.predictions, edgecolors=(0, 0, 0))\n",
    "ax.plot([results.groundTruth.min(), results.groundTruth.max()], [results.groundTruth.min(),results.groundTruth.max()], 'k--', lw=.3)\n",
    "ax.set_xlabel('Actual')\n",
    "ax.set_ylabel('Predicted')\n",
    "ax.set_title(\"Ground Truth vs Predicted\")\n",
    "plt.show()"
   ]
  },
  {
   "cell_type": "markdown",
   "metadata": {},
   "source": [
    "### Gradient Boosting"
   ]
  },
  {
   "cell_type": "code",
   "execution_count": null,
   "metadata": {},
   "outputs": [],
   "source": [
    "# GradientBoostingRegressor\n",
    "modelName = 'gbr'\n",
    "model = GradientBoostingRegressor()\n",
    "model.fit(X_train, y_train)\n",
    "predictions= model.predict(X_test)\n",
    "results = predDF(modelName,predictions, y_test )\n",
    "myMetrics(modelName, y_test, predictions)"
   ]
  },
  {
   "cell_type": "code",
   "execution_count": null,
   "metadata": {},
   "outputs": [],
   "source": [
    "fig, ax = plt.subplots()\n",
    "ax.scatter(results.groundTruth, results.predictions, edgecolors=(0, 0, 0))\n",
    "ax.plot([results.groundTruth.min(), results.groundTruth.max()], [results.groundTruth.min(),results.groundTruth.max()], 'k--', lw=.3)\n",
    "ax.set_xlabel('Actual')\n",
    "ax.set_ylabel('Predicted')\n",
    "ax.set_title(\"Ground Truth vs Predicted\")\n",
    "plt.show()\n",
    "\n",
    "\n",
    "# source: https://acadgild.com/blog/gradient-boosting-for-regression-problems"
   ]
  },
  {
   "cell_type": "markdown",
   "metadata": {},
   "source": [
    "# Predictions"
   ]
  },
  {
   "cell_type": "code",
   "execution_count": null,
   "metadata": {},
   "outputs": [],
   "source": [
    "# load new product attribute data to make predictions on\n",
    "predData = pd.read_csv('newproductattributes2017.csv', header =0)"
   ]
  },
  {
   "cell_type": "code",
   "execution_count": null,
   "metadata": {},
   "outputs": [],
   "source": [
    "predData.describe()"
   ]
  },
  {
   "cell_type": "markdown",
   "metadata": {},
   "source": [
    "# Prepare Prediction Data for Model"
   ]
  },
  {
   "cell_type": "code",
   "execution_count": null,
   "metadata": {},
   "outputs": [],
   "source": [
    "# make copy of data\n",
    "predData_onehot = predData.copy()"
   ]
  },
  {
   "cell_type": "code",
   "execution_count": null,
   "metadata": {},
   "outputs": [],
   "source": [
    "# product types\n",
    "predData_onehot.ProductType.value_counts()"
   ]
  },
  {
   "cell_type": "code",
   "execution_count": null,
   "metadata": {},
   "outputs": [],
   "source": [
    "# filter product types since we're only making predictionson PCs, laptops, netbooks, and smartphones\n",
    "relevantProducts = ['PC','Laptop','Netbook','Smartphone']\n",
    "predData_onehot['ProductType'] = predData_onehot[predData_onehot['ProductType'].isin(relevantProducts)]"
   ]
  },
  {
   "cell_type": "code",
   "execution_count": null,
   "metadata": {},
   "outputs": [],
   "source": [
    "#one-hot encode product types into multiple columns\n",
    "predData_onehot = pd.get_dummies(predData_onehot, columns=['ProductType'], prefix = ['ProductType'])"
   ]
  },
  {
   "cell_type": "code",
   "execution_count": null,
   "metadata": {
    "scrolled": true
   },
   "outputs": [],
   "source": [
    "# verify columns\n",
    "predData_onehot.columns"
   ]
  },
  {
   "cell_type": "code",
   "execution_count": null,
   "metadata": {
    "scrolled": true
   },
   "outputs": [],
   "source": [
    "# Check for Nulls\n",
    "print(predData_onehot.isnull().sum())"
   ]
  },
  {
   "cell_type": "code",
   "execution_count": null,
   "metadata": {
    "scrolled": true
   },
   "outputs": [],
   "source": [
    "#verify types\n",
    "predData_onehot.info()"
   ]
  },
  {
   "cell_type": "code",
   "execution_count": null,
   "metadata": {},
   "outputs": [],
   "source": [
    "cols = ['Price', 'x5StarReviews','x4StarReviews',\n",
    "       'x3StarReviews', 'x2StarReviews', 'x1StarReviews',\n",
    "       'PositiveServiceReview', 'NegativeServiceReview', 'Recommendproduct',\n",
    "       'BestSellersRank', 'ShippingWeight', 'ProductDepth', 'ProductWidth',\n",
    "       'ProductHeight', 'ProfitMargin', 'ProductType_Laptop',\n",
    "       'ProductType_Netbook', 'ProductType_PC', 'ProductType_Smartphone']  #not including product number, volume\n",
    "X = predData_onehot[cols]\n",
    "y = predData_onehot['Volume']"
   ]
  },
  {
   "cell_type": "code",
   "execution_count": null,
   "metadata": {},
   "outputs": [],
   "source": [
    "X.columns"
   ]
  },
  {
   "cell_type": "code",
   "execution_count": null,
   "metadata": {
    "scrolled": true
   },
   "outputs": [],
   "source": [
    "y"
   ]
  },
  {
   "cell_type": "code",
   "execution_count": null,
   "metadata": {},
   "outputs": [],
   "source": [
    "newProductPredictions = gbr_ofb.predict(X)"
   ]
  },
  {
   "cell_type": "code",
   "execution_count": null,
   "metadata": {},
   "outputs": [],
   "source": [
    "# Download Dataset(s) for Model\n",
    "X.to_csv('newProductAttributes_filtered.csv')"
   ]
  },
  {
   "cell_type": "code",
   "execution_count": null,
   "metadata": {},
   "outputs": [],
   "source": [
    "# download predictions\n",
    "np.savetxt(\"newProductPredictions.csv\", newProductPredictions, delimiter=\",\")"
   ]
  },
  {
   "cell_type": "code",
   "execution_count": null,
   "metadata": {},
   "outputs": [],
   "source": []
  }
 ],
 "metadata": {
  "kernelspec": {
   "display_name": "Python 3",
   "language": "python",
   "name": "python3"
  },
  "language_info": {
   "codemirror_mode": {
    "name": "ipython",
    "version": 3
   },
   "file_extension": ".py",
   "mimetype": "text/x-python",
   "name": "python",
   "nbconvert_exporter": "python",
   "pygments_lexer": "ipython3",
   "version": "3.7.4"
  },
  "toc": {
   "base_numbering": 1,
   "nav_menu": {},
   "number_sections": true,
   "sideBar": true,
   "skip_h1_title": false,
   "title_cell": "Table of Contents",
   "title_sidebar": "Contents",
   "toc_cell": false,
   "toc_position": {
    "height": "calc(100% - 180px)",
    "left": "10px",
    "top": "150px",
    "width": "256px"
   },
   "toc_section_display": true,
   "toc_window_display": false
  }
 },
 "nbformat": 4,
 "nbformat_minor": 2
}
